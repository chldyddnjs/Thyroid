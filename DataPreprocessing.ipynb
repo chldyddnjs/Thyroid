{
 "cells": [
  {
   "cell_type": "code",
   "execution_count": 1,
   "metadata": {},
   "outputs": [
    {
     "name": "stderr",
     "output_type": "stream",
     "text": [
      "/home/youngwon/.local/lib/python3.8/site-packages/tqdm/auto.py:22: TqdmWarning: IProgress not found. Please update jupyter and ipywidgets. See https://ipywidgets.readthedocs.io/en/stable/user_install.html\n",
      "  from .autonotebook import tqdm as notebook_tqdm\n",
      "/usr/lib/python3/dist-packages/requests/__init__.py:89: RequestsDependencyWarning: urllib3 (1.26.13) or chardet (3.0.4) doesn't match a supported version!\n",
      "  warnings.warn(\"urllib3 ({}) or chardet ({}) doesn't match a supported \"\n"
     ]
    }
   ],
   "source": [
    "from import_module import *"
   ]
  },
  {
   "cell_type": "code",
   "execution_count": 44,
   "metadata": {},
   "outputs": [
    {
     "name": "stdout",
     "output_type": "stream",
     "text": [
      "(137, 512, 512) (342, 335, 335)\n"
     ]
    }
   ],
   "source": [
    "c = np.load('/mnt/NAS/youngwon/data/label/SN00000130_mask.npy')\n",
    "a = np.load('/mnt/NAS/youngwon/data/label/SN00000130.npy')\n",
    "print(c.shape,a.shape)"
   ]
  },
  {
   "cell_type": "code",
   "execution_count": null,
   "metadata": {},
   "outputs": [],
   "source": [
    "root = '/mnt/NAS/youngwon/handle/data/SN00000222'\n",
    "dcmList=[os.path.join(root,path) for path in os.listdir(root)]\n",
    "# a = dcmread(dcmList)\n",
    "# a.pixel_array.shape\n",
    "\n",
    "# slices = getDcmImage(dcmList,use_interpolation=True)\n",
    "# image = np.stack([s.pixel_array for s in slices]) #512x512\n",
    "# image = image.astype(np.int16)"
   ]
  },
  {
   "cell_type": "code",
   "execution_count": 7,
   "metadata": {},
   "outputs": [
    {
     "name": "stderr",
     "output_type": "stream",
     "text": [
      "100%|██████████| 64/64 [00:00<00:00, 297600.28it/s]\n",
      "  0%|          | 1/250 [00:00<01:46,  2.33it/s]"
     ]
    },
    {
     "name": "stdout",
     "output_type": "stream",
     "text": [
      "Success the npy file! to /mnt/NAS/youngwon/data/crop_all/SN00000130.npy ... 0\n",
      "Success the npy file! to /mnt/NAS/youngwon/data/crop_label/SN00000130.npy ... 0\n"
     ]
    },
    {
     "name": "stderr",
     "output_type": "stream",
     "text": [
      "100%|██████████| 64/64 [00:00<00:00, 35554.37it/s]\n",
      "  1%|          | 2/250 [00:01<03:03,  1.35it/s]"
     ]
    },
    {
     "name": "stdout",
     "output_type": "stream",
     "text": [
      "Success the npy file! to /mnt/NAS/youngwon/data/crop_all/SN00000222.npy ... 1\n",
      "Success the npy file! to /mnt/NAS/youngwon/data/crop_label/SN00000222.npy ... 1\n"
     ]
    },
    {
     "name": "stderr",
     "output_type": "stream",
     "text": [
      "100%|██████████| 64/64 [00:00<00:00, 26712.65it/s]\n",
      "  1%|          | 3/250 [00:01<02:21,  1.74it/s]"
     ]
    },
    {
     "name": "stdout",
     "output_type": "stream",
     "text": [
      "Success the npy file! to /mnt/NAS/youngwon/data/crop_all/SN00000303.npy ... 2\n",
      "Success the npy file! to /mnt/NAS/youngwon/data/crop_label/SN00000303.npy ... 2\n"
     ]
    },
    {
     "name": "stderr",
     "output_type": "stream",
     "text": [
      "100%|██████████| 64/64 [00:00<00:00, 37802.49it/s]\n",
      "  2%|▏         | 4/250 [00:02<02:55,  1.40it/s]"
     ]
    },
    {
     "name": "stdout",
     "output_type": "stream",
     "text": [
      "Success the npy file! to /mnt/NAS/youngwon/data/crop_all/SN00000365.npy ... 3\n",
      "Success the npy file! to /mnt/NAS/youngwon/data/crop_label/SN00000365.npy ... 3\n"
     ]
    },
    {
     "name": "stderr",
     "output_type": "stream",
     "text": [
      "100%|██████████| 64/64 [00:00<00:00, 27316.11it/s]\n",
      "  2%|▏         | 5/250 [00:03<02:54,  1.41it/s]"
     ]
    },
    {
     "name": "stdout",
     "output_type": "stream",
     "text": [
      "Success the npy file! to /mnt/NAS/youngwon/data/crop_all/SN00000528.npy ... 4\n",
      "Success the npy file! to /mnt/NAS/youngwon/data/crop_label/SN00000528.npy ... 4\n"
     ]
    },
    {
     "name": "stderr",
     "output_type": "stream",
     "text": [
      "100%|██████████| 64/64 [00:00<00:00, 30100.41it/s]\n",
      "  2%|▏         | 6/250 [00:04<02:54,  1.40it/s]"
     ]
    },
    {
     "name": "stdout",
     "output_type": "stream",
     "text": [
      "Success the npy file! to /mnt/NAS/youngwon/data/crop_all/SN00000939.npy ... 5\n",
      "Success the npy file! to /mnt/NAS/youngwon/data/crop_label/SN00000939.npy ... 5\n"
     ]
    },
    {
     "name": "stderr",
     "output_type": "stream",
     "text": [
      "100%|██████████| 64/64 [00:00<00:00, 33901.93it/s]\n",
      "  3%|▎         | 7/250 [00:04<02:30,  1.62it/s]"
     ]
    },
    {
     "name": "stdout",
     "output_type": "stream",
     "text": [
      "Success the npy file! to /mnt/NAS/youngwon/data/crop_all/SN00001127.npy ... 6\n",
      "Success the npy file! to /mnt/NAS/youngwon/data/crop_label/SN00001127.npy ... 6\n"
     ]
    },
    {
     "name": "stderr",
     "output_type": "stream",
     "text": [
      "100%|██████████| 64/64 [00:00<00:00, 35672.49it/s]\n",
      "  3%|▎         | 8/250 [00:05<02:46,  1.45it/s]"
     ]
    },
    {
     "name": "stdout",
     "output_type": "stream",
     "text": [
      "Success the npy file! to /mnt/NAS/youngwon/data/crop_all/SN00001236.npy ... 7\n",
      "Success the npy file! to /mnt/NAS/youngwon/data/crop_label/SN00001236.npy ... 7\n"
     ]
    },
    {
     "name": "stderr",
     "output_type": "stream",
     "text": [
      "100%|██████████| 64/64 [00:00<00:00, 24820.66it/s]\n",
      "  4%|▎         | 9/250 [00:05<02:19,  1.72it/s]"
     ]
    },
    {
     "name": "stdout",
     "output_type": "stream",
     "text": [
      "Success the npy file! to /mnt/NAS/youngwon/data/crop_all/SN00001389.npy ... 8\n",
      "Success the npy file! to /mnt/NAS/youngwon/data/crop_label/SN00001389.npy ... 8\n"
     ]
    },
    {
     "name": "stderr",
     "output_type": "stream",
     "text": [
      "100%|██████████| 64/64 [00:00<00:00, 44085.31it/s]\n",
      "  4%|▍         | 10/250 [00:06<02:42,  1.48it/s]"
     ]
    },
    {
     "name": "stdout",
     "output_type": "stream",
     "text": [
      "Success the npy file! to /mnt/NAS/youngwon/data/crop_all/SN00001644.npy ... 9\n",
      "Success the npy file! to /mnt/NAS/youngwon/data/crop_label/SN00001644.npy ... 9\n"
     ]
    },
    {
     "name": "stderr",
     "output_type": "stream",
     "text": [
      "100%|██████████| 64/64 [00:00<00:00, 25528.81it/s]\n",
      "  4%|▍         | 11/250 [00:07<02:32,  1.57it/s]"
     ]
    },
    {
     "name": "stdout",
     "output_type": "stream",
     "text": [
      "Success the npy file! to /mnt/NAS/youngwon/data/crop_all/SN00002126.npy ... 10\n",
      "Success the npy file! to /mnt/NAS/youngwon/data/crop_label/SN00002126.npy ... 10\n"
     ]
    },
    {
     "name": "stderr",
     "output_type": "stream",
     "text": [
      "100%|██████████| 64/64 [00:00<00:00, 38430.27it/s]\n",
      "  5%|▍         | 12/250 [00:07<02:25,  1.64it/s]"
     ]
    },
    {
     "name": "stdout",
     "output_type": "stream",
     "text": [
      "Success the npy file! to /mnt/NAS/youngwon/data/crop_all/SN00002329.npy ... 11\n",
      "Success the npy file! to /mnt/NAS/youngwon/data/crop_label/SN00002329.npy ... 11\n"
     ]
    },
    {
     "name": "stderr",
     "output_type": "stream",
     "text": [
      "100%|██████████| 64/64 [00:00<00:00, 32368.92it/s]\n",
      "  5%|▌         | 13/250 [00:08<02:13,  1.77it/s]"
     ]
    },
    {
     "name": "stdout",
     "output_type": "stream",
     "text": [
      "Success the npy file! to /mnt/NAS/youngwon/data/crop_all/SN00002346.npy ... 12\n",
      "Success the npy file! to /mnt/NAS/youngwon/data/crop_label/SN00002346.npy ... 12\n"
     ]
    },
    {
     "name": "stderr",
     "output_type": "stream",
     "text": [
      "100%|██████████| 64/64 [00:00<00:00, 41045.18it/s]\n",
      "  6%|▌         | 14/250 [00:08<02:18,  1.71it/s]"
     ]
    },
    {
     "name": "stdout",
     "output_type": "stream",
     "text": [
      "Success the npy file! to /mnt/NAS/youngwon/data/crop_all/SN00002896.npy ... 13\n",
      "Success the npy file! to /mnt/NAS/youngwon/data/crop_label/SN00002896.npy ... 13\n"
     ]
    },
    {
     "name": "stderr",
     "output_type": "stream",
     "text": [
      "100%|██████████| 64/64 [00:00<00:00, 31677.54it/s]\n",
      "  6%|▌         | 15/250 [00:09<02:06,  1.86it/s]"
     ]
    },
    {
     "name": "stdout",
     "output_type": "stream",
     "text": [
      "Success the npy file! to /mnt/NAS/youngwon/data/crop_all/SN00003148.npy ... 14\n",
      "Success the npy file! to /mnt/NAS/youngwon/data/crop_label/SN00003148.npy ... 14\n"
     ]
    },
    {
     "name": "stderr",
     "output_type": "stream",
     "text": [
      "100%|██████████| 64/64 [00:00<00:00, 43563.04it/s]\n",
      "  6%|▋         | 16/250 [00:09<01:51,  2.09it/s]"
     ]
    },
    {
     "name": "stdout",
     "output_type": "stream",
     "text": [
      "Success the npy file! to /mnt/NAS/youngwon/data/crop_all/SN00003167.npy ... 15\n",
      "Success the npy file! to /mnt/NAS/youngwon/data/crop_label/SN00003167.npy ... 15\n"
     ]
    },
    {
     "name": "stderr",
     "output_type": "stream",
     "text": [
      "100%|██████████| 64/64 [00:00<00:00, 42213.47it/s]\n",
      "  7%|▋         | 17/250 [00:10<01:51,  2.10it/s]"
     ]
    },
    {
     "name": "stdout",
     "output_type": "stream",
     "text": [
      "Success the npy file! to /mnt/NAS/youngwon/data/crop_all/SN00003206.npy ... 16\n",
      "Success the npy file! to /mnt/NAS/youngwon/data/crop_label/SN00003206.npy ... 16\n"
     ]
    },
    {
     "name": "stderr",
     "output_type": "stream",
     "text": [
      "100%|██████████| 64/64 [00:00<00:00, 38048.97it/s]\n",
      "  7%|▋         | 18/250 [00:10<01:41,  2.29it/s]"
     ]
    },
    {
     "name": "stdout",
     "output_type": "stream",
     "text": [
      "Success the npy file! to /mnt/NAS/youngwon/data/crop_all/SN00003363.npy ... 17\n",
      "Success the npy file! to /mnt/NAS/youngwon/data/crop_label/SN00003363.npy ... 17\n"
     ]
    },
    {
     "name": "stderr",
     "output_type": "stream",
     "text": [
      "100%|██████████| 64/64 [00:00<00:00, 44369.50it/s]\n",
      "  8%|▊         | 19/250 [00:10<01:50,  2.09it/s]"
     ]
    },
    {
     "name": "stdout",
     "output_type": "stream",
     "text": [
      "Success the npy file! to /mnt/NAS/youngwon/data/crop_all/SN00003495.npy ... 18\n",
      "Success the npy file! to /mnt/NAS/youngwon/data/crop_label/SN00003495.npy ... 18\n"
     ]
    },
    {
     "name": "stderr",
     "output_type": "stream",
     "text": [
      "100%|██████████| 64/64 [00:00<00:00, 32260.00it/s]\n",
      "  8%|▊         | 20/250 [00:11<02:16,  1.68it/s]"
     ]
    },
    {
     "name": "stdout",
     "output_type": "stream",
     "text": [
      "Success the npy file! to /mnt/NAS/youngwon/data/crop_all/SN00003621.npy ... 19\n",
      "Success the npy file! to /mnt/NAS/youngwon/data/crop_label/SN00003621.npy ... 19\n"
     ]
    },
    {
     "name": "stderr",
     "output_type": "stream",
     "text": [
      "100%|██████████| 64/64 [00:00<00:00, 28873.34it/s]\n",
      "  8%|▊         | 21/250 [00:12<01:59,  1.92it/s]"
     ]
    },
    {
     "name": "stdout",
     "output_type": "stream",
     "text": [
      "Success the npy file! to /mnt/NAS/youngwon/data/crop_all/SN00004383.npy ... 20\n",
      "Success the npy file! to /mnt/NAS/youngwon/data/crop_label/SN00004383.npy ... 20\n"
     ]
    },
    {
     "name": "stderr",
     "output_type": "stream",
     "text": [
      "100%|██████████| 64/64 [00:00<00:00, 41101.74it/s]\n",
      "  9%|▉         | 22/250 [00:12<02:07,  1.78it/s]"
     ]
    },
    {
     "name": "stdout",
     "output_type": "stream",
     "text": [
      "Success the npy file! to /mnt/NAS/youngwon/data/crop_all/SN00004750.npy ... 21\n",
      "Success the npy file! to /mnt/NAS/youngwon/data/crop_label/SN00004750.npy ... 21\n"
     ]
    },
    {
     "name": "stderr",
     "output_type": "stream",
     "text": [
      "100%|██████████| 64/64 [00:00<00:00, 32155.66it/s]\n",
      "  9%|▉         | 23/250 [00:13<02:01,  1.87it/s]"
     ]
    },
    {
     "name": "stdout",
     "output_type": "stream",
     "text": [
      "Success the npy file! to /mnt/NAS/youngwon/data/crop_all/SN00004767.npy ... 22\n",
      "Success the npy file! to /mnt/NAS/youngwon/data/crop_label/SN00004767.npy ... 22\n"
     ]
    },
    {
     "name": "stderr",
     "output_type": "stream",
     "text": [
      "100%|██████████| 64/64 [00:00<00:00, 34538.79it/s]\n",
      " 10%|▉         | 24/250 [00:13<01:54,  1.98it/s]"
     ]
    },
    {
     "name": "stdout",
     "output_type": "stream",
     "text": [
      "Success the npy file! to /mnt/NAS/youngwon/data/crop_all/SN00005073.npy ... 23\n",
      "Success the npy file! to /mnt/NAS/youngwon/data/crop_label/SN00005073.npy ... 23\n"
     ]
    },
    {
     "name": "stderr",
     "output_type": "stream",
     "text": [
      "100%|██████████| 64/64 [00:00<00:00, 42915.34it/s]\n",
      " 10%|█         | 25/250 [00:14<02:15,  1.67it/s]"
     ]
    },
    {
     "name": "stdout",
     "output_type": "stream",
     "text": [
      "Success the npy file! to /mnt/NAS/youngwon/data/crop_all/SN00005359.npy ... 24\n",
      "Success the npy file! to /mnt/NAS/youngwon/data/crop_label/SN00005359.npy ... 24\n"
     ]
    },
    {
     "name": "stderr",
     "output_type": "stream",
     "text": [
      "100%|██████████| 64/64 [00:00<00:00, 27478.29it/s]\n",
      " 10%|█         | 26/250 [00:15<02:46,  1.35it/s]"
     ]
    },
    {
     "name": "stdout",
     "output_type": "stream",
     "text": [
      "Success the npy file! to /mnt/NAS/youngwon/data/crop_all/SN00005954.npy ... 25\n",
      "Success the npy file! to /mnt/NAS/youngwon/data/crop_label/SN00005954.npy ... 25\n"
     ]
    },
    {
     "name": "stderr",
     "output_type": "stream",
     "text": [
      "100%|██████████| 64/64 [00:00<00:00, 23111.10it/s]\n",
      " 11%|█         | 27/250 [00:16<02:30,  1.48it/s]"
     ]
    },
    {
     "name": "stdout",
     "output_type": "stream",
     "text": [
      "Success the npy file! to /mnt/NAS/youngwon/data/crop_all/SN00006065.npy ... 26\n",
      "Success the npy file! to /mnt/NAS/youngwon/data/crop_label/SN00006065.npy ... 26\n"
     ]
    },
    {
     "name": "stderr",
     "output_type": "stream",
     "text": [
      "100%|██████████| 64/64 [00:00<00:00, 33659.62it/s]\n",
      " 11%|█         | 28/250 [00:17<02:48,  1.32it/s]"
     ]
    },
    {
     "name": "stdout",
     "output_type": "stream",
     "text": [
      "Success the npy file! to /mnt/NAS/youngwon/data/crop_all/SN00006427.npy ... 27\n",
      "Success the npy file! to /mnt/NAS/youngwon/data/crop_label/SN00006427.npy ... 27\n"
     ]
    },
    {
     "name": "stderr",
     "output_type": "stream",
     "text": [
      "100%|██████████| 64/64 [00:00<00:00, 24429.87it/s]\n",
      " 12%|█▏        | 29/250 [00:17<02:26,  1.51it/s]"
     ]
    },
    {
     "name": "stdout",
     "output_type": "stream",
     "text": [
      "Success the npy file! to /mnt/NAS/youngwon/data/crop_all/SN00006519.npy ... 28\n",
      "Success the npy file! to /mnt/NAS/youngwon/data/crop_label/SN00006519.npy ... 28\n"
     ]
    },
    {
     "name": "stderr",
     "output_type": "stream",
     "text": [
      "100%|██████████| 64/64 [00:00<00:00, 19579.54it/s]\n",
      " 12%|█▏        | 30/250 [00:18<02:16,  1.61it/s]"
     ]
    },
    {
     "name": "stdout",
     "output_type": "stream",
     "text": [
      "Success the npy file! to /mnt/NAS/youngwon/data/crop_all/SN00006550.npy ... 29\n",
      "Success the npy file! to /mnt/NAS/youngwon/data/crop_label/SN00006550.npy ... 29\n"
     ]
    },
    {
     "name": "stderr",
     "output_type": "stream",
     "text": [
      "100%|██████████| 64/64 [00:00<00:00, 29537.35it/s]\n",
      " 12%|█▏        | 31/250 [00:18<02:06,  1.73it/s]"
     ]
    },
    {
     "name": "stdout",
     "output_type": "stream",
     "text": [
      "Success the npy file! to /mnt/NAS/youngwon/data/crop_all/SN00006821.npy ... 30\n",
      "Success the npy file! to /mnt/NAS/youngwon/data/crop_label/SN00006821.npy ... 30\n"
     ]
    },
    {
     "name": "stderr",
     "output_type": "stream",
     "text": [
      "100%|██████████| 64/64 [00:00<00:00, 24827.55it/s]\n",
      " 13%|█▎        | 32/250 [00:19<02:00,  1.81it/s]"
     ]
    },
    {
     "name": "stdout",
     "output_type": "stream",
     "text": [
      "Success the npy file! to /mnt/NAS/youngwon/data/crop_all/SN00006846.npy ... 31\n",
      "Success the npy file! to /mnt/NAS/youngwon/data/crop_label/SN00006846.npy ... 31\n"
     ]
    },
    {
     "name": "stderr",
     "output_type": "stream",
     "text": [
      "100%|██████████| 64/64 [00:00<00:00, 28393.85it/s]\n",
      " 13%|█▎        | 33/250 [00:19<02:09,  1.67it/s]"
     ]
    },
    {
     "name": "stdout",
     "output_type": "stream",
     "text": [
      "Success the npy file! to /mnt/NAS/youngwon/data/crop_all/SN00006882.npy ... 32\n",
      "Success the npy file! to /mnt/NAS/youngwon/data/crop_label/SN00006882.npy ... 32\n"
     ]
    },
    {
     "name": "stderr",
     "output_type": "stream",
     "text": [
      "100%|██████████| 64/64 [00:00<00:00, 40592.08it/s]\n",
      " 14%|█▎        | 34/250 [00:20<01:55,  1.87it/s]"
     ]
    },
    {
     "name": "stdout",
     "output_type": "stream",
     "text": [
      "Success the npy file! to /mnt/NAS/youngwon/data/crop_all/SN00006884.npy ... 33\n",
      "Success the npy file! to /mnt/NAS/youngwon/data/crop_label/SN00006884.npy ... 33\n"
     ]
    },
    {
     "name": "stderr",
     "output_type": "stream",
     "text": [
      "100%|██████████| 64/64 [00:00<00:00, 35432.35it/s]\n",
      " 14%|█▍        | 35/250 [00:20<01:48,  1.99it/s]"
     ]
    },
    {
     "name": "stdout",
     "output_type": "stream",
     "text": [
      "Success the npy file! to /mnt/NAS/youngwon/data/crop_all/SN00007135.npy ... 34\n",
      "Success the npy file! to /mnt/NAS/youngwon/data/crop_label/SN00007135.npy ... 34\n"
     ]
    },
    {
     "name": "stderr",
     "output_type": "stream",
     "text": [
      "100%|██████████| 64/64 [00:00<00:00, 44731.79it/s]\n",
      " 14%|█▍        | 36/250 [00:20<01:38,  2.17it/s]"
     ]
    },
    {
     "name": "stdout",
     "output_type": "stream",
     "text": [
      "Success the npy file! to /mnt/NAS/youngwon/data/crop_all/SN00007310.npy ... 35\n",
      "Success the npy file! to /mnt/NAS/youngwon/data/crop_label/SN00007310.npy ... 35\n"
     ]
    },
    {
     "name": "stderr",
     "output_type": "stream",
     "text": [
      "100%|██████████| 64/64 [00:00<00:00, 31892.06it/s]\n",
      " 15%|█▍        | 37/250 [00:21<01:30,  2.35it/s]"
     ]
    },
    {
     "name": "stdout",
     "output_type": "stream",
     "text": [
      "Success the npy file! to /mnt/NAS/youngwon/data/crop_all/SN00007690.npy ... 36\n",
      "Success the npy file! to /mnt/NAS/youngwon/data/crop_label/SN00007690.npy ... 36\n"
     ]
    },
    {
     "name": "stderr",
     "output_type": "stream",
     "text": [
      "100%|██████████| 64/64 [00:00<00:00, 43648.04it/s]\n",
      " 15%|█▌        | 38/250 [00:21<01:28,  2.39it/s]"
     ]
    },
    {
     "name": "stdout",
     "output_type": "stream",
     "text": [
      "Success the npy file! to /mnt/NAS/youngwon/data/crop_all/SN00008173.npy ... 37\n",
      "Success the npy file! to /mnt/NAS/youngwon/data/crop_label/SN00008173.npy ... 37\n"
     ]
    },
    {
     "name": "stderr",
     "output_type": "stream",
     "text": [
      "100%|██████████| 64/64 [00:00<00:00, 36551.67it/s]\n",
      " 16%|█▌        | 39/250 [00:22<01:56,  1.82it/s]"
     ]
    },
    {
     "name": "stdout",
     "output_type": "stream",
     "text": [
      "Success the npy file! to /mnt/NAS/youngwon/data/crop_all/SN00008221.npy ... 38\n",
      "Success the npy file! to /mnt/NAS/youngwon/data/crop_label/SN00008221.npy ... 38\n"
     ]
    },
    {
     "name": "stderr",
     "output_type": "stream",
     "text": [
      "100%|██████████| 64/64 [00:00<00:00, 29599.23it/s]\n",
      " 16%|█▌        | 40/250 [00:23<02:00,  1.74it/s]"
     ]
    },
    {
     "name": "stdout",
     "output_type": "stream",
     "text": [
      "Success the npy file! to /mnt/NAS/youngwon/data/crop_all/SN00008349.npy ... 39\n",
      "Success the npy file! to /mnt/NAS/youngwon/data/crop_label/SN00008349.npy ... 39\n"
     ]
    },
    {
     "name": "stderr",
     "output_type": "stream",
     "text": [
      "100%|██████████| 64/64 [00:00<00:00, 28304.03it/s]\n",
      " 16%|█▋        | 41/250 [00:23<02:16,  1.53it/s]"
     ]
    },
    {
     "name": "stdout",
     "output_type": "stream",
     "text": [
      "Success the npy file! to /mnt/NAS/youngwon/data/crop_all/SN00008678.npy ... 40\n",
      "Success the npy file! to /mnt/NAS/youngwon/data/crop_label/SN00008678.npy ... 40\n"
     ]
    },
    {
     "name": "stderr",
     "output_type": "stream",
     "text": [
      "100%|██████████| 64/64 [00:00<00:00, 30975.70it/s]\n",
      " 17%|█▋        | 42/250 [00:24<02:06,  1.64it/s]"
     ]
    },
    {
     "name": "stdout",
     "output_type": "stream",
     "text": [
      "Success the npy file! to /mnt/NAS/youngwon/data/crop_all/SN00009042.npy ... 41\n",
      "Success the npy file! to /mnt/NAS/youngwon/data/crop_label/SN00009042.npy ... 41\n"
     ]
    },
    {
     "name": "stderr",
     "output_type": "stream",
     "text": [
      "100%|██████████| 64/64 [00:00<00:00, 36457.35it/s]\n",
      " 17%|█▋        | 43/250 [00:25<02:06,  1.63it/s]"
     ]
    },
    {
     "name": "stdout",
     "output_type": "stream",
     "text": [
      "Success the npy file! to /mnt/NAS/youngwon/data/crop_all/SN00009153.npy ... 42\n",
      "Success the npy file! to /mnt/NAS/youngwon/data/crop_label/SN00009153.npy ... 42\n"
     ]
    },
    {
     "name": "stderr",
     "output_type": "stream",
     "text": [
      "100%|██████████| 64/64 [00:00<00:00, 15917.66it/s]\n",
      " 18%|█▊        | 44/250 [00:25<01:55,  1.78it/s]"
     ]
    },
    {
     "name": "stdout",
     "output_type": "stream",
     "text": [
      "Success the npy file! to /mnt/NAS/youngwon/data/crop_all/SN00009245.npy ... 43\n",
      "Success the npy file! to /mnt/NAS/youngwon/data/crop_label/SN00009245.npy ... 43\n"
     ]
    },
    {
     "name": "stderr",
     "output_type": "stream",
     "text": [
      "100%|██████████| 64/64 [00:00<00:00, 40366.23it/s]\n",
      " 18%|█▊        | 45/250 [00:26<02:09,  1.58it/s]"
     ]
    },
    {
     "name": "stdout",
     "output_type": "stream",
     "text": [
      "Success the npy file! to /mnt/NAS/youngwon/data/crop_all/SN00009371.npy ... 44\n",
      "Success the npy file! to /mnt/NAS/youngwon/data/crop_label/SN00009371.npy ... 44\n"
     ]
    },
    {
     "name": "stderr",
     "output_type": "stream",
     "text": [
      "100%|██████████| 64/64 [00:00<00:00, 28920.00it/s]\n",
      " 18%|█▊        | 46/250 [00:26<01:58,  1.73it/s]"
     ]
    },
    {
     "name": "stdout",
     "output_type": "stream",
     "text": [
      "Success the npy file! to /mnt/NAS/youngwon/data/crop_all/SN00009413.npy ... 45\n",
      "Success the npy file! to /mnt/NAS/youngwon/data/crop_label/SN00009413.npy ... 45\n"
     ]
    },
    {
     "name": "stderr",
     "output_type": "stream",
     "text": [
      "100%|██████████| 64/64 [00:00<00:00, 29314.78it/s]\n",
      " 19%|█▉        | 47/250 [00:27<02:07,  1.59it/s]"
     ]
    },
    {
     "name": "stdout",
     "output_type": "stream",
     "text": [
      "Success the npy file! to /mnt/NAS/youngwon/data/crop_all/SN00009780.npy ... 46\n",
      "Success the npy file! to /mnt/NAS/youngwon/data/crop_label/SN00009780.npy ... 46\n"
     ]
    },
    {
     "name": "stderr",
     "output_type": "stream",
     "text": [
      "100%|██████████| 64/64 [00:00<00:00, 28578.25it/s]\n",
      " 19%|█▉        | 48/250 [00:28<02:16,  1.48it/s]"
     ]
    },
    {
     "name": "stdout",
     "output_type": "stream",
     "text": [
      "Success the npy file! to /mnt/NAS/youngwon/data/crop_all/SN00009867.npy ... 47\n",
      "Success the npy file! to /mnt/NAS/youngwon/data/crop_label/SN00009867.npy ... 47\n"
     ]
    },
    {
     "name": "stderr",
     "output_type": "stream",
     "text": [
      "100%|██████████| 64/64 [00:00<00:00, 21983.09it/s]\n",
      " 20%|█▉        | 49/250 [00:28<01:57,  1.71it/s]"
     ]
    },
    {
     "name": "stdout",
     "output_type": "stream",
     "text": [
      "Success the npy file! to /mnt/NAS/youngwon/data/crop_all/SN00010121.npy ... 48\n",
      "Success the npy file! to /mnt/NAS/youngwon/data/crop_label/SN00010121.npy ... 48\n"
     ]
    },
    {
     "name": "stderr",
     "output_type": "stream",
     "text": [
      "100%|██████████| 64/64 [00:00<00:00, 36576.57it/s]\n",
      " 20%|██        | 50/250 [00:29<01:55,  1.73it/s]"
     ]
    },
    {
     "name": "stdout",
     "output_type": "stream",
     "text": [
      "Success the npy file! to /mnt/NAS/youngwon/data/crop_all/SN00010304.npy ... 49\n",
      "Success the npy file! to /mnt/NAS/youngwon/data/crop_label/SN00010304.npy ... 49\n"
     ]
    },
    {
     "name": "stderr",
     "output_type": "stream",
     "text": [
      "100%|██████████| 64/64 [00:00<00:00, 17662.55it/s]\n",
      " 20%|██        | 51/250 [00:30<02:11,  1.51it/s]"
     ]
    },
    {
     "name": "stdout",
     "output_type": "stream",
     "text": [
      "Success the npy file! to /mnt/NAS/youngwon/data/crop_all/SN00010317.npy ... 50\n",
      "Success the npy file! to /mnt/NAS/youngwon/data/crop_label/SN00010317.npy ... 50\n"
     ]
    },
    {
     "name": "stderr",
     "output_type": "stream",
     "text": [
      "100%|██████████| 64/64 [00:00<00:00, 26997.43it/s]\n",
      " 21%|██        | 52/250 [00:30<02:07,  1.56it/s]"
     ]
    },
    {
     "name": "stdout",
     "output_type": "stream",
     "text": [
      "Success the npy file! to /mnt/NAS/youngwon/data/crop_all/SN00010365.npy ... 51\n",
      "Success the npy file! to /mnt/NAS/youngwon/data/crop_label/SN00010365.npy ... 51\n"
     ]
    },
    {
     "name": "stderr",
     "output_type": "stream",
     "text": [
      "100%|██████████| 64/64 [00:00<00:00, 33833.56it/s]\n",
      " 21%|██        | 53/250 [00:31<01:58,  1.66it/s]"
     ]
    },
    {
     "name": "stdout",
     "output_type": "stream",
     "text": [
      "Success the npy file! to /mnt/NAS/youngwon/data/crop_all/SN00010557.npy ... 52\n",
      "Success the npy file! to /mnt/NAS/youngwon/data/crop_label/SN00010557.npy ... 52\n"
     ]
    },
    {
     "name": "stderr",
     "output_type": "stream",
     "text": [
      "100%|██████████| 64/64 [00:00<00:00, 21941.76it/s]\n",
      " 22%|██▏       | 54/250 [00:31<01:59,  1.64it/s]"
     ]
    },
    {
     "name": "stdout",
     "output_type": "stream",
     "text": [
      "Success the npy file! to /mnt/NAS/youngwon/data/crop_all/SN00010746.npy ... 53\n",
      "Success the npy file! to /mnt/NAS/youngwon/data/crop_label/SN00010746.npy ... 53\n"
     ]
    },
    {
     "name": "stderr",
     "output_type": "stream",
     "text": [
      "100%|██████████| 64/64 [00:00<00:00, 33275.75it/s]\n",
      " 22%|██▏       | 55/250 [00:32<02:02,  1.59it/s]"
     ]
    },
    {
     "name": "stdout",
     "output_type": "stream",
     "text": [
      "Success the npy file! to /mnt/NAS/youngwon/data/crop_all/SN00010771.npy ... 54\n",
      "Success the npy file! to /mnt/NAS/youngwon/data/crop_label/SN00010771.npy ... 54\n"
     ]
    },
    {
     "name": "stderr",
     "output_type": "stream",
     "text": [
      "100%|██████████| 64/64 [00:00<00:00, 15018.21it/s]\n",
      " 22%|██▏       | 56/250 [00:33<01:52,  1.73it/s]"
     ]
    },
    {
     "name": "stdout",
     "output_type": "stream",
     "text": [
      "Success the npy file! to /mnt/NAS/youngwon/data/crop_all/SN00011007.npy ... 55\n",
      "Success the npy file! to /mnt/NAS/youngwon/data/crop_label/SN00011007.npy ... 55\n"
     ]
    },
    {
     "name": "stderr",
     "output_type": "stream",
     "text": [
      "100%|██████████| 64/64 [00:00<00:00, 20365.33it/s]\n",
      " 23%|██▎       | 57/250 [00:33<01:46,  1.81it/s]"
     ]
    },
    {
     "name": "stdout",
     "output_type": "stream",
     "text": [
      "Success the npy file! to /mnt/NAS/youngwon/data/crop_all/SN00011072.npy ... 56\n",
      "Success the npy file! to /mnt/NAS/youngwon/data/crop_label/SN00011072.npy ... 56\n"
     ]
    },
    {
     "name": "stderr",
     "output_type": "stream",
     "text": [
      "100%|██████████| 64/64 [00:00<00:00, 35455.75it/s]\n",
      " 23%|██▎       | 58/250 [00:34<02:14,  1.43it/s]"
     ]
    },
    {
     "name": "stdout",
     "output_type": "stream",
     "text": [
      "Success the npy file! to /mnt/NAS/youngwon/data/crop_all/SN00011170.npy ... 57\n",
      "Success the npy file! to /mnt/NAS/youngwon/data/crop_label/SN00011170.npy ... 57\n"
     ]
    },
    {
     "name": "stderr",
     "output_type": "stream",
     "text": [
      "100%|██████████| 64/64 [00:00<00:00, 23728.05it/s]\n",
      " 24%|██▎       | 59/250 [00:35<02:17,  1.38it/s]"
     ]
    },
    {
     "name": "stdout",
     "output_type": "stream",
     "text": [
      "Success the npy file! to /mnt/NAS/youngwon/data/crop_all/SN00011388.npy ... 58\n",
      "Success the npy file! to /mnt/NAS/youngwon/data/crop_label/SN00011388.npy ... 58\n"
     ]
    },
    {
     "name": "stderr",
     "output_type": "stream",
     "text": [
      "100%|██████████| 64/64 [00:00<00:00, 17377.84it/s]\n",
      " 24%|██▍       | 60/250 [00:36<02:19,  1.36it/s]"
     ]
    },
    {
     "name": "stdout",
     "output_type": "stream",
     "text": [
      "Success the npy file! to /mnt/NAS/youngwon/data/crop_all/SN00011669.npy ... 59\n",
      "Success the npy file! to /mnt/NAS/youngwon/data/crop_label/SN00011669.npy ... 59\n"
     ]
    },
    {
     "name": "stderr",
     "output_type": "stream",
     "text": [
      "100%|██████████| 64/64 [00:00<00:00, 28966.81it/s]\n",
      " 24%|██▍       | 61/250 [00:36<02:02,  1.54it/s]"
     ]
    },
    {
     "name": "stdout",
     "output_type": "stream",
     "text": [
      "Success the npy file! to /mnt/NAS/youngwon/data/crop_all/SN00011857.npy ... 60\n",
      "Success the npy file! to /mnt/NAS/youngwon/data/crop_label/SN00011857.npy ... 60\n"
     ]
    },
    {
     "name": "stderr",
     "output_type": "stream",
     "text": [
      "100%|██████████| 64/64 [00:00<00:00, 37396.97it/s]\n",
      " 25%|██▍       | 62/250 [00:36<01:43,  1.82it/s]"
     ]
    },
    {
     "name": "stdout",
     "output_type": "stream",
     "text": [
      "Success the npy file! to /mnt/NAS/youngwon/data/crop_all/SN00011887.npy ... 61\n",
      "Success the npy file! to /mnt/NAS/youngwon/data/crop_label/SN00011887.npy ... 61\n"
     ]
    },
    {
     "name": "stderr",
     "output_type": "stream",
     "text": [
      "100%|██████████| 64/64 [00:00<00:00, 49793.26it/s]\n",
      " 25%|██▌       | 63/250 [00:37<01:47,  1.74it/s]"
     ]
    },
    {
     "name": "stdout",
     "output_type": "stream",
     "text": [
      "Success the npy file! to /mnt/NAS/youngwon/data/crop_all/SN00012114.npy ... 62\n",
      "Success the npy file! to /mnt/NAS/youngwon/data/crop_label/SN00012114.npy ... 62\n"
     ]
    },
    {
     "name": "stderr",
     "output_type": "stream",
     "text": [
      "100%|██████████| 64/64 [00:00<00:00, 30667.82it/s]\n",
      " 26%|██▌       | 64/250 [00:37<01:31,  2.03it/s]"
     ]
    },
    {
     "name": "stdout",
     "output_type": "stream",
     "text": [
      "Success the npy file! to /mnt/NAS/youngwon/data/crop_all/SN00012154.npy ... 63\n",
      "Success the npy file! to /mnt/NAS/youngwon/data/crop_label/SN00012154.npy ... 63\n"
     ]
    },
    {
     "name": "stderr",
     "output_type": "stream",
     "text": [
      "100%|██████████| 64/64 [00:00<00:00, 26418.21it/s]\n",
      " 26%|██▌       | 65/250 [00:38<01:24,  2.19it/s]"
     ]
    },
    {
     "name": "stdout",
     "output_type": "stream",
     "text": [
      "Success the npy file! to /mnt/NAS/youngwon/data/crop_all/SN00012435.npy ... 64\n",
      "Success the npy file! to /mnt/NAS/youngwon/data/crop_label/SN00012435.npy ... 64\n"
     ]
    },
    {
     "name": "stderr",
     "output_type": "stream",
     "text": [
      "100%|██████████| 64/64 [00:00<00:00, 39703.51it/s]\n",
      " 26%|██▋       | 66/250 [00:39<01:56,  1.57it/s]"
     ]
    },
    {
     "name": "stdout",
     "output_type": "stream",
     "text": [
      "Success the npy file! to /mnt/NAS/youngwon/data/crop_all/SN00013295.npy ... 65\n",
      "Success the npy file! to /mnt/NAS/youngwon/data/crop_label/SN00013295.npy ... 65\n"
     ]
    },
    {
     "name": "stderr",
     "output_type": "stream",
     "text": [
      "100%|██████████| 64/64 [00:00<00:00, 22258.33it/s]\n",
      " 27%|██▋       | 67/250 [00:39<01:38,  1.86it/s]"
     ]
    },
    {
     "name": "stdout",
     "output_type": "stream",
     "text": [
      "Success the npy file! to /mnt/NAS/youngwon/data/crop_all/SN00013382.npy ... 66\n",
      "Success the npy file! to /mnt/NAS/youngwon/data/crop_label/SN00013382.npy ... 66\n"
     ]
    },
    {
     "name": "stderr",
     "output_type": "stream",
     "text": [
      "100%|██████████| 64/64 [00:00<00:00, 46498.43it/s]\n",
      " 27%|██▋       | 68/250 [00:39<01:30,  2.02it/s]"
     ]
    },
    {
     "name": "stdout",
     "output_type": "stream",
     "text": [
      "Success the npy file! to /mnt/NAS/youngwon/data/crop_all/SN00013529.npy ... 67\n",
      "Success the npy file! to /mnt/NAS/youngwon/data/crop_label/SN00013529.npy ... 67\n"
     ]
    },
    {
     "name": "stderr",
     "output_type": "stream",
     "text": [
      "100%|██████████| 64/64 [00:00<00:00, 33558.63it/s]\n",
      " 28%|██▊       | 69/250 [00:40<01:36,  1.87it/s]"
     ]
    },
    {
     "name": "stdout",
     "output_type": "stream",
     "text": [
      "Success the npy file! to /mnt/NAS/youngwon/data/crop_all/SN00013552.npy ... 68\n",
      "Success the npy file! to /mnt/NAS/youngwon/data/crop_label/SN00013552.npy ... 68\n"
     ]
    },
    {
     "name": "stderr",
     "output_type": "stream",
     "text": [
      "100%|██████████| 64/64 [00:00<00:00, 17967.57it/s]\n",
      " 28%|██▊       | 70/250 [00:41<01:39,  1.81it/s]"
     ]
    },
    {
     "name": "stdout",
     "output_type": "stream",
     "text": [
      "Success the npy file! to /mnt/NAS/youngwon/data/crop_all/SN00013764.npy ... 69\n",
      "Success the npy file! to /mnt/NAS/youngwon/data/crop_label/SN00013764.npy ... 69\n"
     ]
    },
    {
     "name": "stderr",
     "output_type": "stream",
     "text": [
      "100%|██████████| 64/64 [00:00<00:00, 19646.89it/s]\n",
      " 28%|██▊       | 71/250 [00:41<01:46,  1.68it/s]"
     ]
    },
    {
     "name": "stdout",
     "output_type": "stream",
     "text": [
      "Success the npy file! to /mnt/NAS/youngwon/data/crop_all/SN00013819.npy ... 70\n",
      "Success the npy file! to /mnt/NAS/youngwon/data/crop_label/SN00013819.npy ... 70\n"
     ]
    },
    {
     "name": "stderr",
     "output_type": "stream",
     "text": [
      "100%|██████████| 64/64 [00:00<00:00, 30002.85it/s]\n",
      " 29%|██▉       | 72/250 [00:42<01:50,  1.61it/s]"
     ]
    },
    {
     "name": "stdout",
     "output_type": "stream",
     "text": [
      "Success the npy file! to /mnt/NAS/youngwon/data/crop_all/SN00013839.npy ... 71\n",
      "Success the npy file! to /mnt/NAS/youngwon/data/crop_label/SN00013839.npy ... 71\n"
     ]
    },
    {
     "name": "stderr",
     "output_type": "stream",
     "text": [
      "100%|██████████| 64/64 [00:00<00:00, 28951.19it/s]\n",
      " 29%|██▉       | 73/250 [00:43<01:55,  1.53it/s]"
     ]
    },
    {
     "name": "stdout",
     "output_type": "stream",
     "text": [
      "Success the npy file! to /mnt/NAS/youngwon/data/crop_all/SN00014174.npy ... 72\n",
      "Success the npy file! to /mnt/NAS/youngwon/data/crop_label/SN00014174.npy ... 72\n"
     ]
    },
    {
     "name": "stderr",
     "output_type": "stream",
     "text": [
      "100%|██████████| 64/64 [00:00<00:00, 28891.99it/s]\n",
      " 30%|██▉       | 74/250 [00:43<01:39,  1.77it/s]"
     ]
    },
    {
     "name": "stdout",
     "output_type": "stream",
     "text": [
      "Success the npy file! to /mnt/NAS/youngwon/data/crop_all/SN00014240.npy ... 73\n",
      "Success the npy file! to /mnt/NAS/youngwon/data/crop_label/SN00014240.npy ... 73\n"
     ]
    },
    {
     "name": "stderr",
     "output_type": "stream",
     "text": [
      "100%|██████████| 64/64 [00:00<00:00, 38490.89it/s]\n",
      " 30%|███       | 75/250 [00:44<01:58,  1.48it/s]"
     ]
    },
    {
     "name": "stdout",
     "output_type": "stream",
     "text": [
      "Success the npy file! to /mnt/NAS/youngwon/data/crop_all/SN00014511.npy ... 74\n",
      "Success the npy file! to /mnt/NAS/youngwon/data/crop_label/SN00014511.npy ... 74\n"
     ]
    },
    {
     "name": "stderr",
     "output_type": "stream",
     "text": [
      "100%|██████████| 64/64 [00:00<00:00, 24425.43it/s]\n",
      " 30%|███       | 76/250 [00:44<01:41,  1.71it/s]"
     ]
    },
    {
     "name": "stdout",
     "output_type": "stream",
     "text": [
      "Success the npy file! to /mnt/NAS/youngwon/data/crop_all/SN00014595.npy ... 75\n",
      "Success the npy file! to /mnt/NAS/youngwon/data/crop_label/SN00014595.npy ... 75\n"
     ]
    },
    {
     "name": "stderr",
     "output_type": "stream",
     "text": [
      "100%|██████████| 64/64 [00:00<00:00, 39844.95it/s]\n",
      " 31%|███       | 77/250 [00:45<01:32,  1.87it/s]"
     ]
    },
    {
     "name": "stdout",
     "output_type": "stream",
     "text": [
      "Success the npy file! to /mnt/NAS/youngwon/data/crop_all/SN00014646.npy ... 76\n",
      "Success the npy file! to /mnt/NAS/youngwon/data/crop_label/SN00014646.npy ... 76\n"
     ]
    },
    {
     "name": "stderr",
     "output_type": "stream",
     "text": [
      "100%|██████████| 64/64 [00:00<00:00, 33554.43it/s]\n",
      " 31%|███       | 78/250 [00:45<01:22,  2.10it/s]"
     ]
    },
    {
     "name": "stdout",
     "output_type": "stream",
     "text": [
      "Success the npy file! to /mnt/NAS/youngwon/data/crop_all/SN00014826.npy ... 77\n",
      "Success the npy file! to /mnt/NAS/youngwon/data/crop_label/SN00014826.npy ... 77\n"
     ]
    },
    {
     "name": "stderr",
     "output_type": "stream",
     "text": [
      "100%|██████████| 64/64 [00:00<00:00, 37496.22it/s]\n",
      " 32%|███▏      | 79/250 [00:46<01:17,  2.22it/s]"
     ]
    },
    {
     "name": "stdout",
     "output_type": "stream",
     "text": [
      "Success the npy file! to /mnt/NAS/youngwon/data/crop_all/SN00014883.npy ... 78\n",
      "Success the npy file! to /mnt/NAS/youngwon/data/crop_label/SN00014883.npy ... 78\n"
     ]
    },
    {
     "name": "stderr",
     "output_type": "stream",
     "text": [
      "100%|██████████| 64/64 [00:00<00:00, 37225.83it/s]\n",
      " 32%|███▏      | 80/250 [00:46<01:11,  2.38it/s]"
     ]
    },
    {
     "name": "stdout",
     "output_type": "stream",
     "text": [
      "Success the npy file! to /mnt/NAS/youngwon/data/crop_all/SN00015033.npy ... 79\n",
      "Success the npy file! to /mnt/NAS/youngwon/data/crop_label/SN00015033.npy ... 79\n"
     ]
    },
    {
     "name": "stderr",
     "output_type": "stream",
     "text": [
      "100%|██████████| 64/64 [00:00<00:00, 44063.60it/s]\n",
      " 32%|███▏      | 81/250 [00:46<01:16,  2.21it/s]"
     ]
    },
    {
     "name": "stdout",
     "output_type": "stream",
     "text": [
      "Success the npy file! to /mnt/NAS/youngwon/data/crop_all/SN00015160.npy ... 80\n",
      "Success the npy file! to /mnt/NAS/youngwon/data/crop_label/SN00015160.npy ... 80\n"
     ]
    },
    {
     "name": "stderr",
     "output_type": "stream",
     "text": [
      "100%|██████████| 64/64 [00:00<00:00, 30379.75it/s]\n",
      " 33%|███▎      | 82/250 [00:47<01:35,  1.75it/s]"
     ]
    },
    {
     "name": "stdout",
     "output_type": "stream",
     "text": [
      "Success the npy file! to /mnt/NAS/youngwon/data/crop_all/SN00015431.npy ... 81\n",
      "Success the npy file! to /mnt/NAS/youngwon/data/crop_label/SN00015431.npy ... 81\n"
     ]
    },
    {
     "name": "stderr",
     "output_type": "stream",
     "text": [
      "100%|██████████| 64/64 [00:00<00:00, 25376.77it/s]\n",
      " 33%|███▎      | 83/250 [00:48<01:25,  1.95it/s]"
     ]
    },
    {
     "name": "stdout",
     "output_type": "stream",
     "text": [
      "Success the npy file! to /mnt/NAS/youngwon/data/crop_all/SN00015884.npy ... 82\n",
      "Success the npy file! to /mnt/NAS/youngwon/data/crop_label/SN00015884.npy ... 82\n"
     ]
    },
    {
     "name": "stderr",
     "output_type": "stream",
     "text": [
      "100%|██████████| 64/64 [00:00<00:00, 38287.76it/s]\n",
      " 34%|███▎      | 84/250 [00:48<01:19,  2.09it/s]"
     ]
    },
    {
     "name": "stdout",
     "output_type": "stream",
     "text": [
      "Success the npy file! to /mnt/NAS/youngwon/data/crop_all/SN00016081.npy ... 83\n",
      "Success the npy file! to /mnt/NAS/youngwon/data/crop_label/SN00016081.npy ... 83\n"
     ]
    },
    {
     "name": "stderr",
     "output_type": "stream",
     "text": [
      "100%|██████████| 64/64 [00:00<00:00, 35959.20it/s]\n",
      " 34%|███▍      | 85/250 [00:49<01:24,  1.95it/s]"
     ]
    },
    {
     "name": "stdout",
     "output_type": "stream",
     "text": [
      "Success the npy file! to /mnt/NAS/youngwon/data/crop_all/SN00016105.npy ... 84\n",
      "Success the npy file! to /mnt/NAS/youngwon/data/crop_label/SN00016105.npy ... 84\n"
     ]
    },
    {
     "name": "stderr",
     "output_type": "stream",
     "text": [
      "100%|██████████| 64/64 [00:00<00:00, 27410.95it/s]\n",
      " 34%|███▍      | 86/250 [00:49<01:26,  1.91it/s]"
     ]
    },
    {
     "name": "stdout",
     "output_type": "stream",
     "text": [
      "Success the npy file! to /mnt/NAS/youngwon/data/crop_all/SN00016127.npy ... 85\n",
      "Success the npy file! to /mnt/NAS/youngwon/data/crop_label/SN00016127.npy ... 85\n"
     ]
    },
    {
     "name": "stderr",
     "output_type": "stream",
     "text": [
      "100%|██████████| 64/64 [00:00<00:00, 26358.55it/s]\n",
      " 35%|███▍      | 87/250 [00:50<01:17,  2.10it/s]"
     ]
    },
    {
     "name": "stdout",
     "output_type": "stream",
     "text": [
      "Success the npy file! to /mnt/NAS/youngwon/data/crop_all/SN00016181.npy ... 86\n",
      "Success the npy file! to /mnt/NAS/youngwon/data/crop_label/SN00016181.npy ... 86\n"
     ]
    },
    {
     "name": "stderr",
     "output_type": "stream",
     "text": [
      "100%|██████████| 64/64 [00:00<00:00, 39791.80it/s]\n",
      " 35%|███▌      | 88/250 [00:50<01:14,  2.17it/s]"
     ]
    },
    {
     "name": "stdout",
     "output_type": "stream",
     "text": [
      "Success the npy file! to /mnt/NAS/youngwon/data/crop_all/SN00016539.npy ... 87\n",
      "Success the npy file! to /mnt/NAS/youngwon/data/crop_label/SN00016539.npy ... 87\n"
     ]
    },
    {
     "name": "stderr",
     "output_type": "stream",
     "text": [
      "100%|██████████| 64/64 [00:00<00:00, 33433.24it/s]\n",
      " 36%|███▌      | 89/250 [00:50<01:16,  2.12it/s]"
     ]
    },
    {
     "name": "stdout",
     "output_type": "stream",
     "text": [
      "Success the npy file! to /mnt/NAS/youngwon/data/crop_all/SN00016597.npy ... 88\n",
      "Success the npy file! to /mnt/NAS/youngwon/data/crop_label/SN00016597.npy ... 88\n"
     ]
    },
    {
     "name": "stderr",
     "output_type": "stream",
     "text": [
      "100%|██████████| 64/64 [00:00<00:00, 28888.88it/s]\n",
      " 36%|███▌      | 90/250 [00:51<01:07,  2.38it/s]"
     ]
    },
    {
     "name": "stdout",
     "output_type": "stream",
     "text": [
      "Success the npy file! to /mnt/NAS/youngwon/data/crop_all/SN00016778.npy ... 89\n",
      "Success the npy file! to /mnt/NAS/youngwon/data/crop_label/SN00016778.npy ... 89\n"
     ]
    },
    {
     "name": "stderr",
     "output_type": "stream",
     "text": [
      "100%|██████████| 64/64 [00:00<00:00, 56787.70it/s]\n",
      " 36%|███▋      | 91/250 [00:51<01:11,  2.24it/s]"
     ]
    },
    {
     "name": "stdout",
     "output_type": "stream",
     "text": [
      "Success the npy file! to /mnt/NAS/youngwon/data/crop_all/SN00017738.npy ... 90\n",
      "Success the npy file! to /mnt/NAS/youngwon/data/crop_label/SN00017738.npy ... 90\n"
     ]
    },
    {
     "name": "stderr",
     "output_type": "stream",
     "text": [
      "100%|██████████| 64/64 [00:00<00:00, 14766.24it/s]\n",
      " 37%|███▋      | 92/250 [00:52<01:14,  2.11it/s]"
     ]
    },
    {
     "name": "stdout",
     "output_type": "stream",
     "text": [
      "Success the npy file! to /mnt/NAS/youngwon/data/crop_all/SN00018014.npy ... 91\n",
      "Success the npy file! to /mnt/NAS/youngwon/data/crop_label/SN00018014.npy ... 91\n"
     ]
    },
    {
     "name": "stderr",
     "output_type": "stream",
     "text": [
      "100%|██████████| 64/64 [00:00<00:00, 36206.56it/s]\n",
      " 37%|███▋      | 93/250 [00:52<01:12,  2.15it/s]"
     ]
    },
    {
     "name": "stdout",
     "output_type": "stream",
     "text": [
      "Success the npy file! to /mnt/NAS/youngwon/data/crop_all/SN00018202.npy ... 92\n",
      "Success the npy file! to /mnt/NAS/youngwon/data/crop_label/SN00018202.npy ... 92\n"
     ]
    },
    {
     "name": "stderr",
     "output_type": "stream",
     "text": [
      "100%|██████████| 64/64 [00:00<00:00, 35334.40it/s]\n",
      " 38%|███▊      | 94/250 [00:53<01:13,  2.12it/s]"
     ]
    },
    {
     "name": "stdout",
     "output_type": "stream",
     "text": [
      "Success the npy file! to /mnt/NAS/youngwon/data/crop_all/SN00018213.npy ... 93\n",
      "Success the npy file! to /mnt/NAS/youngwon/data/crop_label/SN00018213.npy ... 93\n"
     ]
    },
    {
     "name": "stderr",
     "output_type": "stream",
     "text": [
      "100%|██████████| 64/64 [00:00<00:00, 31880.70it/s]\n",
      " 38%|███▊      | 95/250 [00:53<01:08,  2.28it/s]"
     ]
    },
    {
     "name": "stdout",
     "output_type": "stream",
     "text": [
      "Success the npy file! to /mnt/NAS/youngwon/data/crop_all/SN00018292.npy ... 94\n",
      "Success the npy file! to /mnt/NAS/youngwon/data/crop_label/SN00018292.npy ... 94\n"
     ]
    },
    {
     "name": "stderr",
     "output_type": "stream",
     "text": [
      "100%|██████████| 64/64 [00:00<00:00, 19217.89it/s]\n",
      " 38%|███▊      | 96/250 [00:54<01:26,  1.78it/s]"
     ]
    },
    {
     "name": "stdout",
     "output_type": "stream",
     "text": [
      "Success the npy file! to /mnt/NAS/youngwon/data/crop_all/SN00018533.npy ... 95\n",
      "Success the npy file! to /mnt/NAS/youngwon/data/crop_label/SN00018533.npy ... 95\n"
     ]
    },
    {
     "name": "stderr",
     "output_type": "stream",
     "text": [
      "100%|██████████| 64/64 [00:00<00:00, 23673.64it/s]\n",
      " 39%|███▉      | 97/250 [00:54<01:23,  1.84it/s]"
     ]
    },
    {
     "name": "stdout",
     "output_type": "stream",
     "text": [
      "Success the npy file! to /mnt/NAS/youngwon/data/crop_all/SN00018693.npy ... 96\n",
      "Success the npy file! to /mnt/NAS/youngwon/data/crop_label/SN00018693.npy ... 96\n"
     ]
    },
    {
     "name": "stderr",
     "output_type": "stream",
     "text": [
      "100%|██████████| 64/64 [00:00<00:00, 33445.73it/s]\n",
      " 39%|███▉      | 98/250 [00:55<01:11,  2.13it/s]"
     ]
    },
    {
     "name": "stdout",
     "output_type": "stream",
     "text": [
      "Success the npy file! to /mnt/NAS/youngwon/data/crop_all/SN00018715.npy ... 97\n",
      "Success the npy file! to /mnt/NAS/youngwon/data/crop_label/SN00018715.npy ... 97\n"
     ]
    },
    {
     "name": "stderr",
     "output_type": "stream",
     "text": [
      "100%|██████████| 64/64 [00:00<00:00, 44194.18it/s]\n",
      " 40%|███▉      | 99/250 [00:55<01:09,  2.17it/s]"
     ]
    },
    {
     "name": "stdout",
     "output_type": "stream",
     "text": [
      "Success the npy file! to /mnt/NAS/youngwon/data/crop_all/SN00018804.npy ... 98\n",
      "Success the npy file! to /mnt/NAS/youngwon/data/crop_label/SN00018804.npy ... 98\n"
     ]
    },
    {
     "name": "stderr",
     "output_type": "stream",
     "text": [
      "100%|██████████| 64/64 [00:00<00:00, 28734.26it/s]\n",
      " 40%|████      | 100/250 [00:56<01:01,  2.43it/s]"
     ]
    },
    {
     "name": "stdout",
     "output_type": "stream",
     "text": [
      "Success the npy file! to /mnt/NAS/youngwon/data/crop_all/SN00019288.npy ... 99\n",
      "Success the npy file! to /mnt/NAS/youngwon/data/crop_label/SN00019288.npy ... 99\n"
     ]
    },
    {
     "name": "stderr",
     "output_type": "stream",
     "text": [
      "100%|██████████| 64/64 [00:00<00:00, 46733.19it/s]\n",
      " 40%|████      | 101/250 [00:56<01:00,  2.46it/s]"
     ]
    },
    {
     "name": "stdout",
     "output_type": "stream",
     "text": [
      "Success the npy file! to /mnt/NAS/youngwon/data/crop_all/SN00019308.npy ... 100\n",
      "Success the npy file! to /mnt/NAS/youngwon/data/crop_label/SN00019308.npy ... 100\n"
     ]
    },
    {
     "name": "stderr",
     "output_type": "stream",
     "text": [
      "100%|██████████| 64/64 [00:00<00:00, 32136.41it/s]\n",
      " 41%|████      | 102/250 [00:56<01:03,  2.34it/s]"
     ]
    },
    {
     "name": "stdout",
     "output_type": "stream",
     "text": [
      "Success the npy file! to /mnt/NAS/youngwon/data/crop_all/SN00019460.npy ... 101\n",
      "Success the npy file! to /mnt/NAS/youngwon/data/crop_label/SN00019460.npy ... 101\n"
     ]
    },
    {
     "name": "stderr",
     "output_type": "stream",
     "text": [
      "100%|██████████| 64/64 [00:00<00:00, 36089.74it/s]\n",
      " 41%|████      | 103/250 [00:57<00:58,  2.51it/s]"
     ]
    },
    {
     "name": "stdout",
     "output_type": "stream",
     "text": [
      "Success the npy file! to /mnt/NAS/youngwon/data/crop_all/SN00019934.npy ... 102\n",
      "Success the npy file! to /mnt/NAS/youngwon/data/crop_label/SN00019934.npy ... 102\n"
     ]
    },
    {
     "name": "stderr",
     "output_type": "stream",
     "text": [
      "100%|██████████| 64/64 [00:00<00:00, 30514.43it/s]\n",
      " 42%|████▏     | 104/250 [00:57<01:01,  2.37it/s]"
     ]
    },
    {
     "name": "stdout",
     "output_type": "stream",
     "text": [
      "Success the npy file! to /mnt/NAS/youngwon/data/crop_all/SN00020209.npy ... 103\n",
      "Success the npy file! to /mnt/NAS/youngwon/data/crop_label/SN00020209.npy ... 103\n"
     ]
    },
    {
     "name": "stderr",
     "output_type": "stream",
     "text": [
      "100%|██████████| 64/64 [00:00<00:00, 15131.65it/s]\n",
      " 42%|████▏     | 105/250 [00:58<01:08,  2.12it/s]"
     ]
    },
    {
     "name": "stdout",
     "output_type": "stream",
     "text": [
      "Success the npy file! to /mnt/NAS/youngwon/data/crop_all/SN00020681.npy ... 104\n",
      "Success the npy file! to /mnt/NAS/youngwon/data/crop_label/SN00020681.npy ... 104\n"
     ]
    },
    {
     "name": "stderr",
     "output_type": "stream",
     "text": [
      "100%|██████████| 64/64 [00:00<00:00, 32376.73it/s]\n",
      " 42%|████▏     | 106/250 [00:58<01:05,  2.20it/s]"
     ]
    },
    {
     "name": "stdout",
     "output_type": "stream",
     "text": [
      "Success the npy file! to /mnt/NAS/youngwon/data/crop_all/SN00020939.npy ... 105\n",
      "Success the npy file! to /mnt/NAS/youngwon/data/crop_label/SN00020939.npy ... 105\n"
     ]
    },
    {
     "name": "stderr",
     "output_type": "stream",
     "text": [
      "100%|██████████| 64/64 [00:00<00:00, 17407.14it/s]\n",
      " 43%|████▎     | 107/250 [00:59<01:13,  1.95it/s]"
     ]
    },
    {
     "name": "stdout",
     "output_type": "stream",
     "text": [
      "Success the npy file! to /mnt/NAS/youngwon/data/crop_all/SN00020964.npy ... 106\n",
      "Success the npy file! to /mnt/NAS/youngwon/data/crop_label/SN00020964.npy ... 106\n"
     ]
    },
    {
     "name": "stderr",
     "output_type": "stream",
     "text": [
      "100%|██████████| 64/64 [00:00<00:00, 23999.59it/s]\n",
      " 43%|████▎     | 108/250 [00:59<01:09,  2.06it/s]"
     ]
    },
    {
     "name": "stdout",
     "output_type": "stream",
     "text": [
      "Success the npy file! to /mnt/NAS/youngwon/data/crop_all/SN00021062.npy ... 107\n",
      "Success the npy file! to /mnt/NAS/youngwon/data/crop_label/SN00021062.npy ... 107\n"
     ]
    },
    {
     "name": "stderr",
     "output_type": "stream",
     "text": [
      "100%|██████████| 64/64 [00:00<00:00, 34879.87it/s]\n",
      " 44%|████▎     | 109/250 [01:00<01:05,  2.16it/s]"
     ]
    },
    {
     "name": "stdout",
     "output_type": "stream",
     "text": [
      "Success the npy file! to /mnt/NAS/youngwon/data/crop_all/SN00021685.npy ... 108\n",
      "Success the npy file! to /mnt/NAS/youngwon/data/crop_label/SN00021685.npy ... 108\n"
     ]
    },
    {
     "name": "stderr",
     "output_type": "stream",
     "text": [
      "100%|██████████| 64/64 [00:00<00:00, 39756.44it/s]\n",
      " 44%|████▍     | 110/250 [01:00<01:10,  1.99it/s]"
     ]
    },
    {
     "name": "stdout",
     "output_type": "stream",
     "text": [
      "Success the npy file! to /mnt/NAS/youngwon/data/crop_all/SN00021841.npy ... 109\n",
      "Success the npy file! to /mnt/NAS/youngwon/data/crop_label/SN00021841.npy ... 109\n"
     ]
    },
    {
     "name": "stderr",
     "output_type": "stream",
     "text": [
      "100%|██████████| 64/64 [00:00<00:00, 28161.50it/s]\n",
      " 44%|████▍     | 111/250 [01:01<01:12,  1.91it/s]"
     ]
    },
    {
     "name": "stdout",
     "output_type": "stream",
     "text": [
      "Success the npy file! to /mnt/NAS/youngwon/data/crop_all/SN00022211.npy ... 110\n",
      "Success the npy file! to /mnt/NAS/youngwon/data/crop_label/SN00022211.npy ... 110\n"
     ]
    },
    {
     "name": "stderr",
     "output_type": "stream",
     "text": [
      "100%|██████████| 64/64 [00:00<00:00, 32840.16it/s]\n",
      " 45%|████▍     | 112/250 [01:01<01:16,  1.80it/s]"
     ]
    },
    {
     "name": "stdout",
     "output_type": "stream",
     "text": [
      "Success the npy file! to /mnt/NAS/youngwon/data/crop_all/SN00022223.npy ... 111\n",
      "Success the npy file! to /mnt/NAS/youngwon/data/crop_label/SN00022223.npy ... 111\n"
     ]
    },
    {
     "name": "stderr",
     "output_type": "stream",
     "text": [
      "100%|██████████| 64/64 [00:00<00:00, 31473.26it/s]\n",
      " 45%|████▌     | 113/250 [01:02<01:11,  1.91it/s]"
     ]
    },
    {
     "name": "stdout",
     "output_type": "stream",
     "text": [
      "Success the npy file! to /mnt/NAS/youngwon/data/crop_all/SN00022308.npy ... 112\n",
      "Success the npy file! to /mnt/NAS/youngwon/data/crop_label/SN00022308.npy ... 112\n"
     ]
    },
    {
     "name": "stderr",
     "output_type": "stream",
     "text": [
      "100%|██████████| 64/64 [00:00<00:00, 35071.26it/s]\n",
      " 46%|████▌     | 114/250 [01:02<01:11,  1.91it/s]"
     ]
    },
    {
     "name": "stdout",
     "output_type": "stream",
     "text": [
      "Success the npy file! to /mnt/NAS/youngwon/data/crop_all/SN00022757.npy ... 113\n",
      "Success the npy file! to /mnt/NAS/youngwon/data/crop_label/SN00022757.npy ... 113\n"
     ]
    },
    {
     "name": "stderr",
     "output_type": "stream",
     "text": [
      "100%|██████████| 64/64 [00:00<00:00, 29064.04it/s]\n",
      " 46%|████▌     | 115/250 [01:03<01:17,  1.74it/s]"
     ]
    },
    {
     "name": "stdout",
     "output_type": "stream",
     "text": [
      "Success the npy file! to /mnt/NAS/youngwon/data/crop_all/SN00022777.npy ... 114\n",
      "Success the npy file! to /mnt/NAS/youngwon/data/crop_label/SN00022777.npy ... 114\n"
     ]
    },
    {
     "name": "stderr",
     "output_type": "stream",
     "text": [
      "100%|██████████| 64/64 [00:00<00:00, 30566.55it/s]\n",
      " 46%|████▋     | 116/250 [01:04<01:25,  1.57it/s]"
     ]
    },
    {
     "name": "stdout",
     "output_type": "stream",
     "text": [
      "Success the npy file! to /mnt/NAS/youngwon/data/crop_all/SN00023003.npy ... 115\n",
      "Success the npy file! to /mnt/NAS/youngwon/data/crop_label/SN00023003.npy ... 115\n"
     ]
    },
    {
     "name": "stderr",
     "output_type": "stream",
     "text": [
      "100%|██████████| 64/64 [00:00<00:00, 26291.43it/s]\n",
      " 47%|████▋     | 117/250 [01:04<01:18,  1.70it/s]"
     ]
    },
    {
     "name": "stdout",
     "output_type": "stream",
     "text": [
      "Success the npy file! to /mnt/NAS/youngwon/data/crop_all/SN00023312.npy ... 116\n",
      "Success the npy file! to /mnt/NAS/youngwon/data/crop_label/SN00023312.npy ... 116\n"
     ]
    },
    {
     "name": "stderr",
     "output_type": "stream",
     "text": [
      "100%|██████████| 64/64 [00:00<00:00, 34322.40it/s]\n",
      " 47%|████▋     | 118/250 [01:05<01:08,  1.93it/s]"
     ]
    },
    {
     "name": "stdout",
     "output_type": "stream",
     "text": [
      "Success the npy file! to /mnt/NAS/youngwon/data/crop_all/SN00023568.npy ... 117\n",
      "Success the npy file! to /mnt/NAS/youngwon/data/crop_label/SN00023568.npy ... 117\n"
     ]
    },
    {
     "name": "stderr",
     "output_type": "stream",
     "text": [
      "100%|██████████| 64/64 [00:00<00:00, 37423.04it/s]\n",
      " 48%|████▊     | 119/250 [01:05<01:10,  1.86it/s]"
     ]
    },
    {
     "name": "stdout",
     "output_type": "stream",
     "text": [
      "Success the npy file! to /mnt/NAS/youngwon/data/crop_all/SN00023741.npy ... 118\n",
      "Success the npy file! to /mnt/NAS/youngwon/data/crop_label/SN00023741.npy ... 118\n"
     ]
    },
    {
     "name": "stderr",
     "output_type": "stream",
     "text": [
      "100%|██████████| 64/64 [00:00<00:00, 29514.62it/s]\n",
      " 48%|████▊     | 120/250 [01:06<01:04,  2.00it/s]"
     ]
    },
    {
     "name": "stdout",
     "output_type": "stream",
     "text": [
      "Success the npy file! to /mnt/NAS/youngwon/data/crop_all/SN00023867.npy ... 119\n",
      "Success the npy file! to /mnt/NAS/youngwon/data/crop_label/SN00023867.npy ... 119\n"
     ]
    },
    {
     "name": "stderr",
     "output_type": "stream",
     "text": [
      "100%|██████████| 64/64 [00:00<00:00, 30379.75it/s]\n",
      " 48%|████▊     | 121/250 [01:06<00:59,  2.17it/s]"
     ]
    },
    {
     "name": "stdout",
     "output_type": "stream",
     "text": [
      "Success the npy file! to /mnt/NAS/youngwon/data/crop_all/SN00023968.npy ... 120\n",
      "Success the npy file! to /mnt/NAS/youngwon/data/crop_label/SN00023968.npy ... 120\n"
     ]
    },
    {
     "name": "stderr",
     "output_type": "stream",
     "text": [
      "100%|██████████| 64/64 [00:00<00:00, 38331.49it/s]\n",
      " 49%|████▉     | 122/250 [01:07<01:06,  1.91it/s]"
     ]
    },
    {
     "name": "stdout",
     "output_type": "stream",
     "text": [
      "Success the npy file! to /mnt/NAS/youngwon/data/crop_all/SN00024082.npy ... 121\n",
      "Success the npy file! to /mnt/NAS/youngwon/data/crop_label/SN00024082.npy ... 121\n"
     ]
    },
    {
     "name": "stderr",
     "output_type": "stream",
     "text": [
      "100%|██████████| 64/64 [00:00<00:00, 25806.14it/s]\n",
      " 49%|████▉     | 123/250 [01:07<00:59,  2.12it/s]"
     ]
    },
    {
     "name": "stdout",
     "output_type": "stream",
     "text": [
      "Success the npy file! to /mnt/NAS/youngwon/data/crop_all/SN00024127.npy ... 122\n",
      "Success the npy file! to /mnt/NAS/youngwon/data/crop_label/SN00024127.npy ... 122\n"
     ]
    },
    {
     "name": "stderr",
     "output_type": "stream",
     "text": [
      "100%|██████████| 64/64 [00:00<00:00, 41126.93it/s]\n",
      " 50%|████▉     | 124/250 [01:07<00:52,  2.38it/s]"
     ]
    },
    {
     "name": "stdout",
     "output_type": "stream",
     "text": [
      "Success the npy file! to /mnt/NAS/youngwon/data/crop_all/SN00024471.npy ... 123\n",
      "Success the npy file! to /mnt/NAS/youngwon/data/crop_label/SN00024471.npy ... 123\n"
     ]
    },
    {
     "name": "stderr",
     "output_type": "stream",
     "text": [
      "100%|██████████| 64/64 [00:00<00:00, 42860.52it/s]\n",
      " 50%|█████     | 125/250 [01:08<00:51,  2.45it/s]"
     ]
    },
    {
     "name": "stdout",
     "output_type": "stream",
     "text": [
      "Success the npy file! to /mnt/NAS/youngwon/data/crop_all/SN00024585.npy ... 124\n",
      "Success the npy file! to /mnt/NAS/youngwon/data/crop_label/SN00024585.npy ... 124\n"
     ]
    },
    {
     "name": "stderr",
     "output_type": "stream",
     "text": [
      "100%|██████████| 64/64 [00:00<00:00, 14297.49it/s]\n",
      " 50%|█████     | 126/250 [01:08<00:47,  2.62it/s]"
     ]
    },
    {
     "name": "stdout",
     "output_type": "stream",
     "text": [
      "Success the npy file! to /mnt/NAS/youngwon/data/crop_all/SN00025206.npy ... 125\n",
      "Success the npy file! to /mnt/NAS/youngwon/data/crop_label/SN00025206.npy ... 125\n"
     ]
    },
    {
     "name": "stderr",
     "output_type": "stream",
     "text": [
      "100%|██████████| 64/64 [00:00<00:00, 45130.37it/s]\n",
      " 51%|█████     | 127/250 [01:08<00:45,  2.72it/s]"
     ]
    },
    {
     "name": "stdout",
     "output_type": "stream",
     "text": [
      "Success the npy file! to /mnt/NAS/youngwon/data/crop_all/SN00025251.npy ... 126\n",
      "Success the npy file! to /mnt/NAS/youngwon/data/crop_label/SN00025251.npy ... 126\n"
     ]
    },
    {
     "name": "stderr",
     "output_type": "stream",
     "text": [
      "100%|██████████| 64/64 [00:00<00:00, 39147.65it/s]\n",
      " 51%|█████     | 128/250 [01:09<00:47,  2.58it/s]"
     ]
    },
    {
     "name": "stdout",
     "output_type": "stream",
     "text": [
      "Success the npy file! to /mnt/NAS/youngwon/data/crop_all/SN00025842.npy ... 127\n",
      "Success the npy file! to /mnt/NAS/youngwon/data/crop_label/SN00025842.npy ... 127\n"
     ]
    },
    {
     "name": "stderr",
     "output_type": "stream",
     "text": [
      "100%|██████████| 64/64 [00:00<00:00, 31759.99it/s]\n",
      " 52%|█████▏    | 129/250 [01:09<00:51,  2.37it/s]"
     ]
    },
    {
     "name": "stdout",
     "output_type": "stream",
     "text": [
      "Success the npy file! to /mnt/NAS/youngwon/data/crop_all/SN00026174.npy ... 128\n",
      "Success the npy file! to /mnt/NAS/youngwon/data/crop_label/SN00026174.npy ... 128\n"
     ]
    },
    {
     "name": "stderr",
     "output_type": "stream",
     "text": [
      "100%|██████████| 64/64 [00:00<00:00, 28432.95it/s]\n",
      " 52%|█████▏    | 130/250 [01:10<00:53,  2.23it/s]"
     ]
    },
    {
     "name": "stdout",
     "output_type": "stream",
     "text": [
      "Success the npy file! to /mnt/NAS/youngwon/data/crop_all/SN00026194.npy ... 129\n",
      "Success the npy file! to /mnt/NAS/youngwon/data/crop_label/SN00026194.npy ... 129\n"
     ]
    },
    {
     "name": "stderr",
     "output_type": "stream",
     "text": [
      "100%|██████████| 64/64 [00:00<00:00, 26087.02it/s]\n",
      " 52%|█████▏    | 131/250 [01:10<00:50,  2.33it/s]"
     ]
    },
    {
     "name": "stdout",
     "output_type": "stream",
     "text": [
      "Success the npy file! to /mnt/NAS/youngwon/data/crop_all/SN00026299.npy ... 130\n",
      "Success the npy file! to /mnt/NAS/youngwon/data/crop_label/SN00026299.npy ... 130\n"
     ]
    },
    {
     "name": "stderr",
     "output_type": "stream",
     "text": [
      "100%|██████████| 64/64 [00:00<00:00, 34213.03it/s]\n",
      " 53%|█████▎    | 132/250 [01:11<00:48,  2.45it/s]"
     ]
    },
    {
     "name": "stdout",
     "output_type": "stream",
     "text": [
      "Success the npy file! to /mnt/NAS/youngwon/data/crop_all/SN00026496.npy ... 131\n",
      "Success the npy file! to /mnt/NAS/youngwon/data/crop_label/SN00026496.npy ... 131\n"
     ]
    },
    {
     "name": "stderr",
     "output_type": "stream",
     "text": [
      "100%|██████████| 64/64 [00:00<00:00, 33668.06it/s]\n",
      " 53%|█████▎    | 133/250 [01:11<00:45,  2.54it/s]"
     ]
    },
    {
     "name": "stdout",
     "output_type": "stream",
     "text": [
      "Success the npy file! to /mnt/NAS/youngwon/data/crop_all/SN00026645.npy ... 132\n",
      "Success the npy file! to /mnt/NAS/youngwon/data/crop_label/SN00026645.npy ... 132\n"
     ]
    },
    {
     "name": "stderr",
     "output_type": "stream",
     "text": [
      "100%|██████████| 64/64 [00:00<00:00, 43115.24it/s]\n",
      " 54%|█████▎    | 134/250 [01:11<00:44,  2.59it/s]"
     ]
    },
    {
     "name": "stdout",
     "output_type": "stream",
     "text": [
      "Success the npy file! to /mnt/NAS/youngwon/data/crop_all/SN00026795.npy ... 133\n",
      "Success the npy file! to /mnt/NAS/youngwon/data/crop_label/SN00026795.npy ... 133\n"
     ]
    },
    {
     "name": "stderr",
     "output_type": "stream",
     "text": [
      "100%|██████████| 64/64 [00:00<00:00, 34875.34it/s]\n",
      " 54%|█████▍    | 135/250 [01:12<00:42,  2.71it/s]"
     ]
    },
    {
     "name": "stdout",
     "output_type": "stream",
     "text": [
      "Success the npy file! to /mnt/NAS/youngwon/data/crop_all/SN00027021.npy ... 134\n",
      "Success the npy file! to /mnt/NAS/youngwon/data/crop_label/SN00027021.npy ... 134\n"
     ]
    },
    {
     "name": "stderr",
     "output_type": "stream",
     "text": [
      "100%|██████████| 64/64 [00:00<00:00, 47418.38it/s]\n",
      " 54%|█████▍    | 136/250 [01:12<00:44,  2.54it/s]"
     ]
    },
    {
     "name": "stdout",
     "output_type": "stream",
     "text": [
      "Success the npy file! to /mnt/NAS/youngwon/data/crop_all/SN00027230.npy ... 135\n",
      "Success the npy file! to /mnt/NAS/youngwon/data/crop_label/SN00027230.npy ... 135\n"
     ]
    },
    {
     "name": "stderr",
     "output_type": "stream",
     "text": [
      "100%|██████████| 64/64 [00:00<00:00, 22339.83it/s]\n",
      " 55%|█████▍    | 137/250 [01:13<00:44,  2.53it/s]"
     ]
    },
    {
     "name": "stdout",
     "output_type": "stream",
     "text": [
      "Success the npy file! to /mnt/NAS/youngwon/data/crop_all/SN00027273.npy ... 136\n",
      "Success the npy file! to /mnt/NAS/youngwon/data/crop_label/SN00027273.npy ... 136\n"
     ]
    },
    {
     "name": "stderr",
     "output_type": "stream",
     "text": [
      "100%|██████████| 64/64 [00:00<00:00, 21602.72it/s]\n",
      " 55%|█████▌    | 138/250 [01:13<00:43,  2.59it/s]"
     ]
    },
    {
     "name": "stdout",
     "output_type": "stream",
     "text": [
      "Success the npy file! to /mnt/NAS/youngwon/data/crop_all/SN00027405.npy ... 137\n",
      "Success the npy file! to /mnt/NAS/youngwon/data/crop_label/SN00027405.npy ... 137\n"
     ]
    },
    {
     "name": "stderr",
     "output_type": "stream",
     "text": [
      "100%|██████████| 64/64 [00:00<00:00, 31224.32it/s]\n",
      " 56%|█████▌    | 139/250 [01:13<00:42,  2.60it/s]"
     ]
    },
    {
     "name": "stdout",
     "output_type": "stream",
     "text": [
      "Success the npy file! to /mnt/NAS/youngwon/data/crop_all/SN00027420.npy ... 138\n",
      "Success the npy file! to /mnt/NAS/youngwon/data/crop_label/SN00027420.npy ... 138\n"
     ]
    },
    {
     "name": "stderr",
     "output_type": "stream",
     "text": [
      "100%|██████████| 64/64 [00:00<00:00, 17400.37it/s]\n",
      " 56%|█████▌    | 140/250 [01:14<00:54,  2.02it/s]"
     ]
    },
    {
     "name": "stdout",
     "output_type": "stream",
     "text": [
      "Success the npy file! to /mnt/NAS/youngwon/data/crop_all/SN00027429.npy ... 139\n",
      "Success the npy file! to /mnt/NAS/youngwon/data/crop_label/SN00027429.npy ... 139\n"
     ]
    },
    {
     "name": "stderr",
     "output_type": "stream",
     "text": [
      "100%|██████████| 64/64 [00:00<00:00, 22998.24it/s]\n",
      " 56%|█████▋    | 141/250 [01:14<00:50,  2.15it/s]"
     ]
    },
    {
     "name": "stdout",
     "output_type": "stream",
     "text": [
      "Success the npy file! to /mnt/NAS/youngwon/data/crop_all/SN00027573.npy ... 140\n",
      "Success the npy file! to /mnt/NAS/youngwon/data/crop_label/SN00027573.npy ... 140\n"
     ]
    },
    {
     "name": "stderr",
     "output_type": "stream",
     "text": [
      "100%|██████████| 64/64 [00:00<00:00, 34243.58it/s]\n",
      " 57%|█████▋    | 142/250 [01:15<00:47,  2.30it/s]"
     ]
    },
    {
     "name": "stdout",
     "output_type": "stream",
     "text": [
      "Success the npy file! to /mnt/NAS/youngwon/data/crop_all/SN00027726.npy ... 141\n",
      "Success the npy file! to /mnt/NAS/youngwon/data/crop_label/SN00027726.npy ... 141\n"
     ]
    },
    {
     "name": "stderr",
     "output_type": "stream",
     "text": [
      "100%|██████████| 64/64 [00:00<00:00, 35997.78it/s]\n",
      " 57%|█████▋    | 143/250 [01:15<00:44,  2.39it/s]"
     ]
    },
    {
     "name": "stdout",
     "output_type": "stream",
     "text": [
      "Success the npy file! to /mnt/NAS/youngwon/data/crop_all/SN00027907.npy ... 142\n",
      "Success the npy file! to /mnt/NAS/youngwon/data/crop_label/SN00027907.npy ... 142\n"
     ]
    },
    {
     "name": "stderr",
     "output_type": "stream",
     "text": [
      "100%|██████████| 64/64 [00:00<00:00, 35422.99it/s]\n",
      " 58%|█████▊    | 144/250 [01:16<00:54,  1.96it/s]"
     ]
    },
    {
     "name": "stdout",
     "output_type": "stream",
     "text": [
      "Success the npy file! to /mnt/NAS/youngwon/data/crop_all/SN00028065.npy ... 143\n",
      "Success the npy file! to /mnt/NAS/youngwon/data/crop_label/SN00028065.npy ... 143\n"
     ]
    },
    {
     "name": "stderr",
     "output_type": "stream",
     "text": [
      "100%|██████████| 64/64 [00:00<00:00, 25796.22it/s]\n",
      " 58%|█████▊    | 145/250 [01:16<00:52,  1.99it/s]"
     ]
    },
    {
     "name": "stdout",
     "output_type": "stream",
     "text": [
      "Success the npy file! to /mnt/NAS/youngwon/data/crop_all/SN00028247.npy ... 144\n",
      "Success the npy file! to /mnt/NAS/youngwon/data/crop_label/SN00028247.npy ... 144\n"
     ]
    },
    {
     "name": "stderr",
     "output_type": "stream",
     "text": [
      "100%|██████████| 64/64 [00:00<00:00, 31072.51it/s]\n",
      " 58%|█████▊    | 146/250 [01:17<00:47,  2.18it/s]"
     ]
    },
    {
     "name": "stdout",
     "output_type": "stream",
     "text": [
      "Success the npy file! to /mnt/NAS/youngwon/data/crop_all/SN00028677.npy ... 145\n",
      "Success the npy file! to /mnt/NAS/youngwon/data/crop_label/SN00028677.npy ... 145\n"
     ]
    },
    {
     "name": "stderr",
     "output_type": "stream",
     "text": [
      "100%|██████████| 64/64 [00:00<00:00, 38075.95it/s]\n",
      " 59%|█████▉    | 147/250 [01:17<00:44,  2.32it/s]"
     ]
    },
    {
     "name": "stdout",
     "output_type": "stream",
     "text": [
      "Success the npy file! to /mnt/NAS/youngwon/data/crop_all/SN00028718.npy ... 146\n",
      "Success the npy file! to /mnt/NAS/youngwon/data/crop_label/SN00028718.npy ... 146\n"
     ]
    },
    {
     "name": "stderr",
     "output_type": "stream",
     "text": [
      "100%|██████████| 64/64 [00:00<00:00, 36928.80it/s]\n",
      " 59%|█████▉    | 148/250 [01:17<00:41,  2.48it/s]"
     ]
    },
    {
     "name": "stdout",
     "output_type": "stream",
     "text": [
      "Success the npy file! to /mnt/NAS/youngwon/data/crop_all/SN00028823.npy ... 147\n",
      "Success the npy file! to /mnt/NAS/youngwon/data/crop_label/SN00028823.npy ... 147\n"
     ]
    },
    {
     "name": "stderr",
     "output_type": "stream",
     "text": [
      "100%|██████████| 64/64 [00:00<00:00, 40239.16it/s]\n",
      " 60%|█████▉    | 149/250 [01:18<00:44,  2.28it/s]"
     ]
    },
    {
     "name": "stdout",
     "output_type": "stream",
     "text": [
      "Success the npy file! to /mnt/NAS/youngwon/data/crop_all/SN00029228.npy ... 148\n",
      "Success the npy file! to /mnt/NAS/youngwon/data/crop_label/SN00029228.npy ... 148\n"
     ]
    },
    {
     "name": "stderr",
     "output_type": "stream",
     "text": [
      "100%|██████████| 64/64 [00:00<00:00, 26459.88it/s]\n",
      " 60%|██████    | 150/250 [01:19<00:53,  1.86it/s]"
     ]
    },
    {
     "name": "stdout",
     "output_type": "stream",
     "text": [
      "Success the npy file! to /mnt/NAS/youngwon/data/crop_all/SN00029280.npy ... 149\n",
      "Success the npy file! to /mnt/NAS/youngwon/data/crop_label/SN00029280.npy ... 149\n"
     ]
    },
    {
     "name": "stderr",
     "output_type": "stream",
     "text": [
      "100%|██████████| 64/64 [00:00<00:00, 24752.00it/s]\n",
      " 60%|██████    | 151/250 [01:19<00:49,  1.99it/s]"
     ]
    },
    {
     "name": "stdout",
     "output_type": "stream",
     "text": [
      "Success the npy file! to /mnt/NAS/youngwon/data/crop_all/SN00029313.npy ... 150\n",
      "Success the npy file! to /mnt/NAS/youngwon/data/crop_label/SN00029313.npy ... 150\n"
     ]
    },
    {
     "name": "stderr",
     "output_type": "stream",
     "text": [
      "100%|██████████| 64/64 [00:00<00:00, 34578.83it/s]\n",
      " 61%|██████    | 152/250 [01:19<00:43,  2.24it/s]"
     ]
    },
    {
     "name": "stdout",
     "output_type": "stream",
     "text": [
      "Success the npy file! to /mnt/NAS/youngwon/data/crop_all/SN00029341.npy ... 151\n",
      "Success the npy file! to /mnt/NAS/youngwon/data/crop_label/SN00029341.npy ... 151\n"
     ]
    },
    {
     "name": "stderr",
     "output_type": "stream",
     "text": [
      "100%|██████████| 64/64 [00:00<00:00, 41133.23it/s]\n",
      " 61%|██████    | 153/250 [01:20<00:39,  2.43it/s]"
     ]
    },
    {
     "name": "stdout",
     "output_type": "stream",
     "text": [
      "Success the npy file! to /mnt/NAS/youngwon/data/crop_all/SN00029534.npy ... 152\n",
      "Success the npy file! to /mnt/NAS/youngwon/data/crop_label/SN00029534.npy ... 152\n"
     ]
    },
    {
     "name": "stderr",
     "output_type": "stream",
     "text": [
      "100%|██████████| 64/64 [00:00<00:00, 45753.44it/s]\n",
      " 62%|██████▏   | 154/250 [01:20<00:41,  2.29it/s]"
     ]
    },
    {
     "name": "stdout",
     "output_type": "stream",
     "text": [
      "Success the npy file! to /mnt/NAS/youngwon/data/crop_all/SN00029593.npy ... 153\n",
      "Success the npy file! to /mnt/NAS/youngwon/data/crop_label/SN00029593.npy ... 153\n"
     ]
    },
    {
     "name": "stderr",
     "output_type": "stream",
     "text": [
      "100%|██████████| 64/64 [00:00<00:00, 27461.43it/s]\n",
      " 62%|██████▏   | 155/250 [01:21<00:40,  2.33it/s]"
     ]
    },
    {
     "name": "stdout",
     "output_type": "stream",
     "text": [
      "Success the npy file! to /mnt/NAS/youngwon/data/crop_all/SN00029688.npy ... 154\n",
      "Success the npy file! to /mnt/NAS/youngwon/data/crop_label/SN00029688.npy ... 154\n"
     ]
    },
    {
     "name": "stderr",
     "output_type": "stream",
     "text": [
      "100%|██████████| 64/64 [00:00<00:00, 37138.28it/s]\n",
      " 62%|██████▏   | 156/250 [01:21<00:37,  2.52it/s]"
     ]
    },
    {
     "name": "stdout",
     "output_type": "stream",
     "text": [
      "Success the npy file! to /mnt/NAS/youngwon/data/crop_all/SN00029776.npy ... 155\n",
      "Success the npy file! to /mnt/NAS/youngwon/data/crop_label/SN00029776.npy ... 155\n"
     ]
    },
    {
     "name": "stderr",
     "output_type": "stream",
     "text": [
      "100%|██████████| 64/64 [00:00<00:00, 48868.64it/s]\n",
      " 63%|██████▎   | 157/250 [01:22<00:39,  2.38it/s]"
     ]
    },
    {
     "name": "stdout",
     "output_type": "stream",
     "text": [
      "Success the npy file! to /mnt/NAS/youngwon/data/crop_all/SN00029787.npy ... 156\n",
      "Success the npy file! to /mnt/NAS/youngwon/data/crop_label/SN00029787.npy ... 156\n"
     ]
    },
    {
     "name": "stderr",
     "output_type": "stream",
     "text": [
      "100%|██████████| 64/64 [00:00<00:00, 29301.98it/s]\n",
      " 63%|██████▎   | 158/250 [01:22<00:43,  2.09it/s]"
     ]
    },
    {
     "name": "stdout",
     "output_type": "stream",
     "text": [
      "Success the npy file! to /mnt/NAS/youngwon/data/crop_all/SN00029981.npy ... 157\n",
      "Success the npy file! to /mnt/NAS/youngwon/data/crop_label/SN00029981.npy ... 157\n"
     ]
    },
    {
     "name": "stderr",
     "output_type": "stream",
     "text": [
      "100%|██████████| 64/64 [00:00<00:00, 28679.00it/s]\n",
      " 64%|██████▎   | 159/250 [01:23<00:52,  1.75it/s]"
     ]
    },
    {
     "name": "stdout",
     "output_type": "stream",
     "text": [
      "Success the npy file! to /mnt/NAS/youngwon/data/crop_all/SN00030037.npy ... 158\n",
      "Success the npy file! to /mnt/NAS/youngwon/data/crop_label/SN00030037.npy ... 158\n"
     ]
    },
    {
     "name": "stderr",
     "output_type": "stream",
     "text": [
      "100%|██████████| 64/64 [00:00<00:00, 20919.22it/s]\n",
      " 64%|██████▍   | 160/250 [01:24<00:58,  1.54it/s]"
     ]
    },
    {
     "name": "stdout",
     "output_type": "stream",
     "text": [
      "Success the npy file! to /mnt/NAS/youngwon/data/crop_all/SN00030192.npy ... 159\n",
      "Success the npy file! to /mnt/NAS/youngwon/data/crop_label/SN00030192.npy ... 159\n"
     ]
    },
    {
     "name": "stderr",
     "output_type": "stream",
     "text": [
      "100%|██████████| 64/64 [00:00<00:00, 24487.82it/s]\n",
      " 64%|██████▍   | 161/250 [01:24<00:52,  1.69it/s]"
     ]
    },
    {
     "name": "stdout",
     "output_type": "stream",
     "text": [
      "Success the npy file! to /mnt/NAS/youngwon/data/crop_all/SN00030218.npy ... 160\n",
      "Success the npy file! to /mnt/NAS/youngwon/data/crop_label/SN00030218.npy ... 160\n"
     ]
    },
    {
     "name": "stderr",
     "output_type": "stream",
     "text": [
      "100%|██████████| 64/64 [00:00<00:00, 32365.02it/s]\n",
      " 65%|██████▍   | 162/250 [01:25<00:49,  1.78it/s]"
     ]
    },
    {
     "name": "stdout",
     "output_type": "stream",
     "text": [
      "Success the npy file! to /mnt/NAS/youngwon/data/crop_all/SN00030334.npy ... 161\n",
      "Success the npy file! to /mnt/NAS/youngwon/data/crop_label/SN00030334.npy ... 161\n"
     ]
    },
    {
     "name": "stderr",
     "output_type": "stream",
     "text": [
      "100%|██████████| 64/64 [00:00<00:00, 35094.19it/s]\n",
      " 65%|██████▌   | 163/250 [01:25<00:44,  1.94it/s]"
     ]
    },
    {
     "name": "stdout",
     "output_type": "stream",
     "text": [
      "Success the npy file! to /mnt/NAS/youngwon/data/crop_all/SN00030765.npy ... 162\n",
      "Success the npy file! to /mnt/NAS/youngwon/data/crop_label/SN00030765.npy ... 162\n"
     ]
    },
    {
     "name": "stderr",
     "output_type": "stream",
     "text": [
      "100%|██████████| 64/64 [00:00<00:00, 31741.22it/s]\n",
      " 66%|██████▌   | 164/250 [01:25<00:40,  2.13it/s]"
     ]
    },
    {
     "name": "stdout",
     "output_type": "stream",
     "text": [
      "Success the npy file! to /mnt/NAS/youngwon/data/crop_all/SN00030780.npy ... 163\n",
      "Success the npy file! to /mnt/NAS/youngwon/data/crop_label/SN00030780.npy ... 163\n"
     ]
    },
    {
     "name": "stderr",
     "output_type": "stream",
     "text": [
      "100%|██████████| 64/64 [00:00<00:00, 39290.90it/s]\n",
      " 66%|██████▌   | 165/250 [01:26<00:37,  2.24it/s]"
     ]
    },
    {
     "name": "stdout",
     "output_type": "stream",
     "text": [
      "Success the npy file! to /mnt/NAS/youngwon/data/crop_all/SN00030808.npy ... 164\n",
      "Success the npy file! to /mnt/NAS/youngwon/data/crop_label/SN00030808.npy ... 164\n"
     ]
    },
    {
     "name": "stderr",
     "output_type": "stream",
     "text": [
      "100%|██████████| 64/64 [00:00<00:00, 35872.71it/s]\n",
      " 66%|██████▋   | 166/250 [01:26<00:33,  2.51it/s]"
     ]
    },
    {
     "name": "stdout",
     "output_type": "stream",
     "text": [
      "Success the npy file! to /mnt/NAS/youngwon/data/crop_all/SN00030918.npy ... 165\n",
      "Success the npy file! to /mnt/NAS/youngwon/data/crop_label/SN00030918.npy ... 165\n"
     ]
    },
    {
     "name": "stderr",
     "output_type": "stream",
     "text": [
      "100%|██████████| 64/64 [00:00<00:00, 45443.62it/s]\n",
      " 67%|██████▋   | 167/250 [01:27<00:33,  2.45it/s]"
     ]
    },
    {
     "name": "stdout",
     "output_type": "stream",
     "text": [
      "Success the npy file! to /mnt/NAS/youngwon/data/crop_all/SN00031043.npy ... 166\n",
      "Success the npy file! to /mnt/NAS/youngwon/data/crop_label/SN00031043.npy ... 166\n"
     ]
    },
    {
     "name": "stderr",
     "output_type": "stream",
     "text": [
      "100%|██████████| 64/64 [00:00<00:00, 31054.54it/s]\n",
      " 67%|██████▋   | 168/250 [01:27<00:32,  2.53it/s]"
     ]
    },
    {
     "name": "stdout",
     "output_type": "stream",
     "text": [
      "Success the npy file! to /mnt/NAS/youngwon/data/crop_all/SN00031068.npy ... 167\n",
      "Success the npy file! to /mnt/NAS/youngwon/data/crop_label/SN00031068.npy ... 167\n"
     ]
    },
    {
     "name": "stderr",
     "output_type": "stream",
     "text": [
      "100%|██████████| 64/64 [00:00<00:00, 40209.03it/s]\n",
      " 68%|██████▊   | 169/250 [01:28<00:36,  2.19it/s]"
     ]
    },
    {
     "name": "stdout",
     "output_type": "stream",
     "text": [
      "Success the npy file! to /mnt/NAS/youngwon/data/crop_all/SN00031187.npy ... 168\n",
      "Success the npy file! to /mnt/NAS/youngwon/data/crop_label/SN00031187.npy ... 168\n"
     ]
    },
    {
     "name": "stderr",
     "output_type": "stream",
     "text": [
      "100%|██████████| 64/64 [00:00<00:00, 29658.10it/s]\n",
      " 68%|██████▊   | 170/250 [01:28<00:35,  2.22it/s]"
     ]
    },
    {
     "name": "stdout",
     "output_type": "stream",
     "text": [
      "Success the npy file! to /mnt/NAS/youngwon/data/crop_all/SN00031313.npy ... 169\n",
      "Success the npy file! to /mnt/NAS/youngwon/data/crop_label/SN00031313.npy ... 169\n"
     ]
    },
    {
     "name": "stderr",
     "output_type": "stream",
     "text": [
      "100%|██████████| 64/64 [00:00<00:00, 38195.14it/s]\n",
      " 68%|██████▊   | 171/250 [01:28<00:34,  2.29it/s]"
     ]
    },
    {
     "name": "stdout",
     "output_type": "stream",
     "text": [
      "Success the npy file! to /mnt/NAS/youngwon/data/crop_all/SN00031323.npy ... 170\n",
      "Success the npy file! to /mnt/NAS/youngwon/data/crop_label/SN00031323.npy ... 170\n"
     ]
    },
    {
     "name": "stderr",
     "output_type": "stream",
     "text": [
      "100%|██████████| 64/64 [00:00<00:00, 35306.52it/s]\n",
      " 69%|██████▉   | 172/250 [01:29<00:32,  2.39it/s]"
     ]
    },
    {
     "name": "stdout",
     "output_type": "stream",
     "text": [
      "Success the npy file! to /mnt/NAS/youngwon/data/crop_all/SN00031461.npy ... 171\n",
      "Success the npy file! to /mnt/NAS/youngwon/data/crop_label/SN00031461.npy ... 171\n"
     ]
    },
    {
     "name": "stderr",
     "output_type": "stream",
     "text": [
      "100%|██████████| 64/64 [00:00<00:00, 36964.40it/s]\n",
      " 69%|██████▉   | 173/250 [01:29<00:30,  2.53it/s]"
     ]
    },
    {
     "name": "stdout",
     "output_type": "stream",
     "text": [
      "Success the npy file! to /mnt/NAS/youngwon/data/crop_all/SN00031609.npy ... 172\n",
      "Success the npy file! to /mnt/NAS/youngwon/data/crop_label/SN00031609.npy ... 172\n"
     ]
    },
    {
     "name": "stderr",
     "output_type": "stream",
     "text": [
      "100%|██████████| 64/64 [00:00<00:00, 38342.44it/s]\n",
      " 70%|██████▉   | 174/250 [01:30<00:30,  2.52it/s]"
     ]
    },
    {
     "name": "stdout",
     "output_type": "stream",
     "text": [
      "Success the npy file! to /mnt/NAS/youngwon/data/crop_all/SN00031721.npy ... 173\n",
      "Success the npy file! to /mnt/NAS/youngwon/data/crop_label/SN00031721.npy ... 173\n"
     ]
    },
    {
     "name": "stderr",
     "output_type": "stream",
     "text": [
      "100%|██████████| 64/64 [00:00<00:00, 30762.72it/s]\n",
      " 70%|███████   | 175/250 [01:30<00:37,  1.99it/s]"
     ]
    },
    {
     "name": "stdout",
     "output_type": "stream",
     "text": [
      "Success the npy file! to /mnt/NAS/youngwon/data/crop_all/SN00031802.npy ... 174\n",
      "Success the npy file! to /mnt/NAS/youngwon/data/crop_label/SN00031802.npy ... 174\n"
     ]
    },
    {
     "name": "stderr",
     "output_type": "stream",
     "text": [
      "100%|██████████| 64/64 [00:00<00:00, 27591.27it/s]\n",
      " 70%|███████   | 176/250 [01:31<00:36,  2.01it/s]"
     ]
    },
    {
     "name": "stdout",
     "output_type": "stream",
     "text": [
      "Success the npy file! to /mnt/NAS/youngwon/data/crop_all/SN00031817.npy ... 175\n",
      "Success the npy file! to /mnt/NAS/youngwon/data/crop_label/SN00031817.npy ... 175\n"
     ]
    },
    {
     "name": "stderr",
     "output_type": "stream",
     "text": [
      "100%|██████████| 64/64 [00:00<00:00, 36457.35it/s]\n",
      " 71%|███████   | 177/250 [01:31<00:32,  2.21it/s]"
     ]
    },
    {
     "name": "stdout",
     "output_type": "stream",
     "text": [
      "Success the npy file! to /mnt/NAS/youngwon/data/crop_all/SN00031845.npy ... 176\n",
      "Success the npy file! to /mnt/NAS/youngwon/data/crop_label/SN00031845.npy ... 176\n"
     ]
    },
    {
     "name": "stderr",
     "output_type": "stream",
     "text": [
      "100%|██████████| 64/64 [00:00<00:00, 17419.56it/s]\n",
      " 71%|███████   | 178/250 [01:32<00:40,  1.77it/s]"
     ]
    },
    {
     "name": "stdout",
     "output_type": "stream",
     "text": [
      "Success the npy file! to /mnt/NAS/youngwon/data/crop_all/SN00031877.npy ... 177\n",
      "Success the npy file! to /mnt/NAS/youngwon/data/crop_label/SN00031877.npy ... 177\n"
     ]
    },
    {
     "name": "stderr",
     "output_type": "stream",
     "text": [
      "100%|██████████| 64/64 [00:00<00:00, 23684.09it/s]\n",
      " 72%|███████▏  | 179/250 [01:32<00:35,  2.02it/s]"
     ]
    },
    {
     "name": "stdout",
     "output_type": "stream",
     "text": [
      "Success the npy file! to /mnt/NAS/youngwon/data/crop_all/SN00031984.npy ... 178\n",
      "Success the npy file! to /mnt/NAS/youngwon/data/crop_label/SN00031984.npy ... 178\n"
     ]
    },
    {
     "name": "stderr",
     "output_type": "stream",
     "text": [
      "100%|██████████| 64/64 [00:00<00:00, 41650.19it/s]\n",
      " 72%|███████▏  | 180/250 [01:33<00:31,  2.24it/s]"
     ]
    },
    {
     "name": "stdout",
     "output_type": "stream",
     "text": [
      "Success the npy file! to /mnt/NAS/youngwon/data/crop_all/SN00031987.npy ... 179\n",
      "Success the npy file! to /mnt/NAS/youngwon/data/crop_label/SN00031987.npy ... 179\n"
     ]
    },
    {
     "name": "stderr",
     "output_type": "stream",
     "text": [
      "100%|██████████| 64/64 [00:00<00:00, 39803.60it/s]\n",
      " 72%|███████▏  | 181/250 [01:33<00:30,  2.27it/s]"
     ]
    },
    {
     "name": "stdout",
     "output_type": "stream",
     "text": [
      "Success the npy file! to /mnt/NAS/youngwon/data/crop_all/SN00032104.npy ... 180\n",
      "Success the npy file! to /mnt/NAS/youngwon/data/crop_label/SN00032104.npy ... 180\n"
     ]
    },
    {
     "name": "stderr",
     "output_type": "stream",
     "text": [
      "100%|██████████| 64/64 [00:00<00:00, 36701.59it/s]\n",
      " 73%|███████▎  | 182/250 [01:34<00:31,  2.18it/s]"
     ]
    },
    {
     "name": "stdout",
     "output_type": "stream",
     "text": [
      "Success the npy file! to /mnt/NAS/youngwon/data/crop_all/SN00032120.npy ... 181\n",
      "Success the npy file! to /mnt/NAS/youngwon/data/crop_label/SN00032120.npy ... 181\n"
     ]
    },
    {
     "name": "stderr",
     "output_type": "stream",
     "text": [
      "100%|██████████| 64/64 [00:00<00:00, 35343.71it/s]\n",
      " 73%|███████▎  | 183/250 [01:34<00:28,  2.34it/s]"
     ]
    },
    {
     "name": "stdout",
     "output_type": "stream",
     "text": [
      "Success the npy file! to /mnt/NAS/youngwon/data/crop_all/SN00032438.npy ... 182\n",
      "Success the npy file! to /mnt/NAS/youngwon/data/crop_label/SN00032438.npy ... 182\n"
     ]
    },
    {
     "name": "stderr",
     "output_type": "stream",
     "text": [
      "100%|██████████| 64/64 [00:00<00:00, 42021.83it/s]\n",
      " 74%|███████▎  | 184/250 [01:34<00:27,  2.36it/s]"
     ]
    },
    {
     "name": "stdout",
     "output_type": "stream",
     "text": [
      "Success the npy file! to /mnt/NAS/youngwon/data/crop_all/SN00032487.npy ... 183\n",
      "Success the npy file! to /mnt/NAS/youngwon/data/crop_label/SN00032487.npy ... 183\n"
     ]
    },
    {
     "name": "stderr",
     "output_type": "stream",
     "text": [
      "100%|██████████| 64/64 [00:00<00:00, 36333.98it/s]\n",
      " 74%|███████▍  | 185/250 [01:35<00:26,  2.48it/s]"
     ]
    },
    {
     "name": "stdout",
     "output_type": "stream",
     "text": [
      "Success the npy file! to /mnt/NAS/youngwon/data/crop_all/SN00032733.npy ... 184\n",
      "Success the npy file! to /mnt/NAS/youngwon/data/crop_label/SN00032733.npy ... 184\n"
     ]
    },
    {
     "name": "stderr",
     "output_type": "stream",
     "text": [
      "100%|██████████| 64/64 [00:00<00:00, 36994.96it/s]\n",
      " 74%|███████▍  | 186/250 [01:35<00:26,  2.43it/s]"
     ]
    },
    {
     "name": "stdout",
     "output_type": "stream",
     "text": [
      "Success the npy file! to /mnt/NAS/youngwon/data/crop_all/SN00032782.npy ... 185\n",
      "Success the npy file! to /mnt/NAS/youngwon/data/crop_label/SN00032782.npy ... 185\n"
     ]
    },
    {
     "name": "stderr",
     "output_type": "stream",
     "text": [
      "100%|██████████| 64/64 [00:00<00:00, 34165.13it/s]\n",
      " 75%|███████▍  | 187/250 [01:36<00:28,  2.22it/s]"
     ]
    },
    {
     "name": "stdout",
     "output_type": "stream",
     "text": [
      "Success the npy file! to /mnt/NAS/youngwon/data/crop_all/SN00032809.npy ... 186\n",
      "Success the npy file! to /mnt/NAS/youngwon/data/crop_label/SN00032809.npy ... 186\n"
     ]
    },
    {
     "name": "stderr",
     "output_type": "stream",
     "text": [
      "100%|██████████| 64/64 [00:00<00:00, 32513.98it/s]\n",
      " 75%|███████▌  | 188/250 [01:37<00:37,  1.64it/s]"
     ]
    },
    {
     "name": "stdout",
     "output_type": "stream",
     "text": [
      "Success the npy file! to /mnt/NAS/youngwon/data/crop_all/SN00032865.npy ... 187\n",
      "Success the npy file! to /mnt/NAS/youngwon/data/crop_label/SN00032865.npy ... 187\n"
     ]
    },
    {
     "name": "stderr",
     "output_type": "stream",
     "text": [
      "100%|██████████| 64/64 [00:00<00:00, 28161.50it/s]\n",
      " 76%|███████▌  | 189/250 [01:37<00:38,  1.60it/s]"
     ]
    },
    {
     "name": "stdout",
     "output_type": "stream",
     "text": [
      "Success the npy file! to /mnt/NAS/youngwon/data/crop_all/SN00033114.npy ... 188\n",
      "Success the npy file! to /mnt/NAS/youngwon/data/crop_label/SN00033114.npy ... 188\n"
     ]
    },
    {
     "name": "stderr",
     "output_type": "stream",
     "text": [
      "100%|██████████| 64/64 [00:00<00:00, 39762.32it/s]\n",
      " 76%|███████▌  | 190/250 [01:38<00:44,  1.34it/s]"
     ]
    },
    {
     "name": "stdout",
     "output_type": "stream",
     "text": [
      "Success the npy file! to /mnt/NAS/youngwon/data/crop_all/SN00033502.npy ... 189\n",
      "Success the npy file! to /mnt/NAS/youngwon/data/crop_label/SN00033502.npy ... 189\n"
     ]
    },
    {
     "name": "stderr",
     "output_type": "stream",
     "text": [
      "100%|██████████| 64/64 [00:00<00:00, 27653.80it/s]\n",
      " 76%|███████▋  | 191/250 [01:39<00:45,  1.29it/s]"
     ]
    },
    {
     "name": "stdout",
     "output_type": "stream",
     "text": [
      "Success the npy file! to /mnt/NAS/youngwon/data/crop_all/SN00033582.npy ... 190\n",
      "Success the npy file! to /mnt/NAS/youngwon/data/crop_label/SN00033582.npy ... 190\n"
     ]
    },
    {
     "name": "stderr",
     "output_type": "stream",
     "text": [
      "100%|██████████| 64/64 [00:00<00:00, 30872.39it/s]\n",
      " 77%|███████▋  | 192/250 [01:41<01:01,  1.06s/it]"
     ]
    },
    {
     "name": "stdout",
     "output_type": "stream",
     "text": [
      "Success the npy file! to /mnt/NAS/youngwon/data/crop_all/SN00033834.npy ... 191\n",
      "Success the npy file! to /mnt/NAS/youngwon/data/crop_label/SN00033834.npy ... 191\n"
     ]
    },
    {
     "name": "stderr",
     "output_type": "stream",
     "text": [
      "100%|██████████| 64/64 [00:00<00:00, 21181.68it/s]\n",
      " 77%|███████▋  | 193/250 [01:41<00:51,  1.11it/s]"
     ]
    },
    {
     "name": "stdout",
     "output_type": "stream",
     "text": [
      "Success the npy file! to /mnt/NAS/youngwon/data/crop_all/SN00034083.npy ... 192\n",
      "Success the npy file! to /mnt/NAS/youngwon/data/crop_label/SN00034083.npy ... 192\n"
     ]
    },
    {
     "name": "stderr",
     "output_type": "stream",
     "text": [
      "100%|██████████| 64/64 [00:00<00:00, 40263.31it/s]\n",
      " 78%|███████▊  | 194/250 [01:42<00:42,  1.32it/s]"
     ]
    },
    {
     "name": "stdout",
     "output_type": "stream",
     "text": [
      "Success the npy file! to /mnt/NAS/youngwon/data/crop_all/SN00034212.npy ... 193\n",
      "Success the npy file! to /mnt/NAS/youngwon/data/crop_label/SN00034212.npy ... 193\n"
     ]
    },
    {
     "name": "stderr",
     "output_type": "stream",
     "text": [
      "100%|██████████| 64/64 [00:00<00:00, 36319.23it/s]\n",
      " 78%|███████▊  | 195/250 [01:42<00:40,  1.36it/s]"
     ]
    },
    {
     "name": "stdout",
     "output_type": "stream",
     "text": [
      "Success the npy file! to /mnt/NAS/youngwon/data/crop_all/SN00034246.npy ... 194\n",
      "Success the npy file! to /mnt/NAS/youngwon/data/crop_label/SN00034246.npy ... 194\n"
     ]
    },
    {
     "name": "stderr",
     "output_type": "stream",
     "text": [
      "100%|██████████| 64/64 [00:00<00:00, 31565.79it/s]\n",
      " 78%|███████▊  | 196/250 [01:43<00:36,  1.49it/s]"
     ]
    },
    {
     "name": "stdout",
     "output_type": "stream",
     "text": [
      "Success the npy file! to /mnt/NAS/youngwon/data/crop_all/SN00034273.npy ... 195\n",
      "Success the npy file! to /mnt/NAS/youngwon/data/crop_label/SN00034273.npy ... 195\n"
     ]
    },
    {
     "name": "stderr",
     "output_type": "stream",
     "text": [
      "100%|██████████| 64/64 [00:00<00:00, 30709.93it/s]\n",
      " 79%|███████▉  | 197/250 [01:53<03:02,  3.44s/it]"
     ]
    },
    {
     "name": "stdout",
     "output_type": "stream",
     "text": [
      "Success the npy file! to /mnt/NAS/youngwon/data/crop_all/SN00034479.npy ... 196\n",
      "Success the npy file! to /mnt/NAS/youngwon/data/crop_label/SN00034479.npy ... 196\n"
     ]
    },
    {
     "name": "stderr",
     "output_type": "stream",
     "text": [
      "100%|██████████| 64/64 [00:00<00:00, 15706.25it/s]\n",
      " 79%|███████▉  | 198/250 [01:54<02:17,  2.65s/it]"
     ]
    },
    {
     "name": "stdout",
     "output_type": "stream",
     "text": [
      "Success the npy file! to /mnt/NAS/youngwon/data/crop_all/SN00034485.npy ... 197\n",
      "Success the npy file! to /mnt/NAS/youngwon/data/crop_label/SN00034485.npy ... 197\n"
     ]
    },
    {
     "name": "stderr",
     "output_type": "stream",
     "text": [
      "100%|██████████| 64/64 [00:00<00:00, 37475.28it/s]\n",
      " 80%|███████▉  | 199/250 [01:54<01:43,  2.03s/it]"
     ]
    },
    {
     "name": "stdout",
     "output_type": "stream",
     "text": [
      "Success the npy file! to /mnt/NAS/youngwon/data/crop_all/SN00034557.npy ... 198\n",
      "Success the npy file! to /mnt/NAS/youngwon/data/crop_label/SN00034557.npy ... 198\n"
     ]
    },
    {
     "name": "stderr",
     "output_type": "stream",
     "text": [
      "100%|██████████| 64/64 [00:00<00:00, 40863.98it/s]\n",
      " 80%|████████  | 200/250 [01:56<01:32,  1.85s/it]"
     ]
    },
    {
     "name": "stdout",
     "output_type": "stream",
     "text": [
      "Success the npy file! to /mnt/NAS/youngwon/data/crop_all/SN00034836.npy ... 199\n",
      "Success the npy file! to /mnt/NAS/youngwon/data/crop_label/SN00034836.npy ... 199\n"
     ]
    },
    {
     "name": "stderr",
     "output_type": "stream",
     "text": [
      "100%|██████████| 64/64 [00:00<00:00, 27166.83it/s]\n",
      " 80%|████████  | 201/250 [01:57<01:15,  1.54s/it]"
     ]
    },
    {
     "name": "stdout",
     "output_type": "stream",
     "text": [
      "Success the npy file! to /mnt/NAS/youngwon/data/crop_all/SN00034861.npy ... 200\n",
      "Success the npy file! to /mnt/NAS/youngwon/data/crop_label/SN00034861.npy ... 200\n"
     ]
    },
    {
     "name": "stderr",
     "output_type": "stream",
     "text": [
      "100%|██████████| 64/64 [00:00<00:00, 34744.43it/s]\n",
      " 81%|████████  | 202/250 [01:57<00:59,  1.23s/it]"
     ]
    },
    {
     "name": "stdout",
     "output_type": "stream",
     "text": [
      "Success the npy file! to /mnt/NAS/youngwon/data/crop_all/SN00034918.npy ... 201\n",
      "Success the npy file! to /mnt/NAS/youngwon/data/crop_label/SN00034918.npy ... 201\n"
     ]
    },
    {
     "name": "stderr",
     "output_type": "stream",
     "text": [
      "100%|██████████| 64/64 [00:00<00:00, 41779.84it/s]\n",
      " 81%|████████  | 203/250 [01:58<00:47,  1.02s/it]"
     ]
    },
    {
     "name": "stdout",
     "output_type": "stream",
     "text": [
      "Success the npy file! to /mnt/NAS/youngwon/data/crop_all/SN00035034.npy ... 202\n",
      "Success the npy file! to /mnt/NAS/youngwon/data/crop_label/SN00035034.npy ... 202\n"
     ]
    },
    {
     "name": "stderr",
     "output_type": "stream",
     "text": [
      "100%|██████████| 64/64 [00:00<00:00, 38011.25it/s]\n",
      " 82%|████████▏ | 204/250 [01:58<00:39,  1.15it/s]"
     ]
    },
    {
     "name": "stdout",
     "output_type": "stream",
     "text": [
      "Success the npy file! to /mnt/NAS/youngwon/data/crop_all/SN00035332.npy ... 203\n",
      "Success the npy file! to /mnt/NAS/youngwon/data/crop_label/SN00035332.npy ... 203\n"
     ]
    },
    {
     "name": "stderr",
     "output_type": "stream",
     "text": [
      "100%|██████████| 64/64 [00:00<00:00, 41988.97it/s]\n",
      " 82%|████████▏ | 205/250 [01:59<00:43,  1.03it/s]"
     ]
    },
    {
     "name": "stdout",
     "output_type": "stream",
     "text": [
      "Success the npy file! to /mnt/NAS/youngwon/data/crop_all/SN00035347.npy ... 204\n",
      "Success the npy file! to /mnt/NAS/youngwon/data/crop_label/SN00035347.npy ... 204\n"
     ]
    },
    {
     "name": "stderr",
     "output_type": "stream",
     "text": [
      "100%|██████████| 64/64 [00:00<00:00, 27369.03it/s]\n",
      " 82%|████████▏ | 206/250 [02:00<00:41,  1.06it/s]"
     ]
    },
    {
     "name": "stdout",
     "output_type": "stream",
     "text": [
      "Success the npy file! to /mnt/NAS/youngwon/data/crop_all/SN00035516.npy ... 205\n",
      "Success the npy file! to /mnt/NAS/youngwon/data/crop_label/SN00035516.npy ... 205\n"
     ]
    },
    {
     "name": "stderr",
     "output_type": "stream",
     "text": [
      "100%|██████████| 64/64 [00:00<00:00, 37952.14it/s]\n",
      " 83%|████████▎ | 207/250 [02:01<00:35,  1.23it/s]"
     ]
    },
    {
     "name": "stdout",
     "output_type": "stream",
     "text": [
      "Success the npy file! to /mnt/NAS/youngwon/data/crop_all/SN00035525.npy ... 206\n",
      "Success the npy file! to /mnt/NAS/youngwon/data/crop_label/SN00035525.npy ... 206\n"
     ]
    },
    {
     "name": "stderr",
     "output_type": "stream",
     "text": [
      "100%|██████████| 64/64 [00:00<00:00, 22616.52it/s]\n",
      " 83%|████████▎ | 208/250 [02:02<00:38,  1.10it/s]"
     ]
    },
    {
     "name": "stdout",
     "output_type": "stream",
     "text": [
      "Success the npy file! to /mnt/NAS/youngwon/data/crop_all/SN00035706.npy ... 207\n",
      "Success the npy file! to /mnt/NAS/youngwon/data/crop_label/SN00035706.npy ... 207\n"
     ]
    },
    {
     "name": "stderr",
     "output_type": "stream",
     "text": [
      "100%|██████████| 64/64 [00:00<00:00, 29802.98it/s]\n",
      " 84%|████████▎ | 209/250 [02:03<00:34,  1.17it/s]"
     ]
    },
    {
     "name": "stdout",
     "output_type": "stream",
     "text": [
      "Success the npy file! to /mnt/NAS/youngwon/data/crop_all/SN00035775.npy ... 208\n",
      "Success the npy file! to /mnt/NAS/youngwon/data/crop_label/SN00035775.npy ... 208\n"
     ]
    },
    {
     "name": "stderr",
     "output_type": "stream",
     "text": [
      "100%|██████████| 64/64 [00:00<00:00, 30431.41it/s]\n",
      " 84%|████████▍ | 210/250 [02:03<00:29,  1.36it/s]"
     ]
    },
    {
     "name": "stdout",
     "output_type": "stream",
     "text": [
      "Success the npy file! to /mnt/NAS/youngwon/data/crop_all/SN00035878.npy ... 209\n",
      "Success the npy file! to /mnt/NAS/youngwon/data/crop_label/SN00035878.npy ... 209\n"
     ]
    },
    {
     "name": "stderr",
     "output_type": "stream",
     "text": [
      "100%|██████████| 64/64 [00:00<00:00, 34686.06it/s]\n",
      " 84%|████████▍ | 211/250 [02:04<00:25,  1.51it/s]"
     ]
    },
    {
     "name": "stdout",
     "output_type": "stream",
     "text": [
      "Success the npy file! to /mnt/NAS/youngwon/data/crop_all/SN00036075.npy ... 210\n",
      "Success the npy file! to /mnt/NAS/youngwon/data/crop_label/SN00036075.npy ... 210\n"
     ]
    },
    {
     "name": "stderr",
     "output_type": "stream",
     "text": [
      "100%|██████████| 64/64 [00:00<00:00, 30570.03it/s]\n",
      " 85%|████████▍ | 212/250 [02:04<00:21,  1.74it/s]"
     ]
    },
    {
     "name": "stdout",
     "output_type": "stream",
     "text": [
      "Success the npy file! to /mnt/NAS/youngwon/data/crop_all/SN00036465.npy ... 211\n",
      "Success the npy file! to /mnt/NAS/youngwon/data/crop_label/SN00036465.npy ... 211\n"
     ]
    },
    {
     "name": "stderr",
     "output_type": "stream",
     "text": [
      "100%|██████████| 64/64 [00:00<00:00, 39371.58it/s]\n",
      " 85%|████████▌ | 213/250 [02:04<00:21,  1.76it/s]"
     ]
    },
    {
     "name": "stdout",
     "output_type": "stream",
     "text": [
      "Success the npy file! to /mnt/NAS/youngwon/data/crop_all/SN00036511.npy ... 212\n",
      "Success the npy file! to /mnt/NAS/youngwon/data/crop_label/SN00036511.npy ... 212\n"
     ]
    },
    {
     "name": "stderr",
     "output_type": "stream",
     "text": [
      "100%|██████████| 64/64 [00:00<00:00, 31015.07it/s]\n",
      " 86%|████████▌ | 214/250 [02:05<00:20,  1.75it/s]"
     ]
    },
    {
     "name": "stdout",
     "output_type": "stream",
     "text": [
      "Success the npy file! to /mnt/NAS/youngwon/data/crop_all/SN00036554.npy ... 213\n",
      "Success the npy file! to /mnt/NAS/youngwon/data/crop_label/SN00036554.npy ... 213\n"
     ]
    },
    {
     "name": "stderr",
     "output_type": "stream",
     "text": [
      "100%|██████████| 64/64 [00:00<00:00, 30872.39it/s]\n",
      " 86%|████████▌ | 215/250 [02:05<00:18,  1.93it/s]"
     ]
    },
    {
     "name": "stdout",
     "output_type": "stream",
     "text": [
      "Success the npy file! to /mnt/NAS/youngwon/data/crop_all/SN00036570.npy ... 214\n",
      "Success the npy file! to /mnt/NAS/youngwon/data/crop_label/SN00036570.npy ... 214\n"
     ]
    },
    {
     "name": "stderr",
     "output_type": "stream",
     "text": [
      "100%|██████████| 64/64 [00:00<00:00, 37995.11it/s]\n",
      " 86%|████████▋ | 216/250 [02:06<00:18,  1.89it/s]"
     ]
    },
    {
     "name": "stdout",
     "output_type": "stream",
     "text": [
      "Success the npy file! to /mnt/NAS/youngwon/data/crop_all/SN00036588.npy ... 215\n",
      "Success the npy file! to /mnt/NAS/youngwon/data/crop_label/SN00036588.npy ... 215\n"
     ]
    },
    {
     "name": "stderr",
     "output_type": "stream",
     "text": [
      "100%|██████████| 64/64 [00:00<00:00, 31418.01it/s]\n",
      " 87%|████████▋ | 217/250 [02:07<00:25,  1.31it/s]"
     ]
    },
    {
     "name": "stdout",
     "output_type": "stream",
     "text": [
      "Success the npy file! to /mnt/NAS/youngwon/data/crop_all/SN00036628.npy ... 216\n",
      "Success the npy file! to /mnt/NAS/youngwon/data/crop_label/SN00036628.npy ... 216\n"
     ]
    },
    {
     "name": "stderr",
     "output_type": "stream",
     "text": [
      "100%|██████████| 64/64 [00:00<00:00, 27944.56it/s]\n",
      " 87%|████████▋ | 218/250 [02:08<00:21,  1.52it/s]"
     ]
    },
    {
     "name": "stdout",
     "output_type": "stream",
     "text": [
      "Success the npy file! to /mnt/NAS/youngwon/data/crop_all/SN00036925.npy ... 217\n",
      "Success the npy file! to /mnt/NAS/youngwon/data/crop_label/SN00036925.npy ... 217\n"
     ]
    },
    {
     "name": "stderr",
     "output_type": "stream",
     "text": [
      "100%|██████████| 64/64 [00:00<00:00, 34735.44it/s]\n",
      " 88%|████████▊ | 219/250 [02:08<00:18,  1.72it/s]"
     ]
    },
    {
     "name": "stdout",
     "output_type": "stream",
     "text": [
      "Success the npy file! to /mnt/NAS/youngwon/data/crop_all/SN00036935.npy ... 218\n",
      "Success the npy file! to /mnt/NAS/youngwon/data/crop_label/SN00036935.npy ... 218\n"
     ]
    },
    {
     "name": "stderr",
     "output_type": "stream",
     "text": [
      "100%|██████████| 64/64 [00:00<00:00, 38244.12it/s]\n",
      " 88%|████████▊ | 220/250 [02:09<00:18,  1.60it/s]"
     ]
    },
    {
     "name": "stdout",
     "output_type": "stream",
     "text": [
      "Success the npy file! to /mnt/NAS/youngwon/data/crop_all/SN00036966.npy ... 219\n",
      "Success the npy file! to /mnt/NAS/youngwon/data/crop_label/SN00036966.npy ... 219\n"
     ]
    },
    {
     "name": "stderr",
     "output_type": "stream",
     "text": [
      "100%|██████████| 64/64 [00:00<00:00, 27517.73it/s]\n",
      " 88%|████████▊ | 221/250 [02:09<00:18,  1.60it/s]"
     ]
    },
    {
     "name": "stdout",
     "output_type": "stream",
     "text": [
      "Success the npy file! to /mnt/NAS/youngwon/data/crop_all/SN00037001.npy ... 220\n",
      "Success the npy file! to /mnt/NAS/youngwon/data/crop_label/SN00037001.npy ... 220\n"
     ]
    },
    {
     "name": "stderr",
     "output_type": "stream",
     "text": [
      "100%|██████████| 64/64 [00:00<00:00, 30188.42it/s]\n",
      " 89%|████████▉ | 222/250 [02:10<00:15,  1.81it/s]"
     ]
    },
    {
     "name": "stdout",
     "output_type": "stream",
     "text": [
      "Success the npy file! to /mnt/NAS/youngwon/data/crop_all/SN00037156.npy ... 221\n",
      "Success the npy file! to /mnt/NAS/youngwon/data/crop_label/SN00037156.npy ... 221\n"
     ]
    },
    {
     "name": "stderr",
     "output_type": "stream",
     "text": [
      "100%|██████████| 64/64 [00:00<00:00, 39079.26it/s]\n",
      " 89%|████████▉ | 223/250 [02:10<00:14,  1.80it/s]"
     ]
    },
    {
     "name": "stdout",
     "output_type": "stream",
     "text": [
      "Success the npy file! to /mnt/NAS/youngwon/data/crop_all/SN00037200.npy ... 222\n",
      "Success the npy file! to /mnt/NAS/youngwon/data/crop_label/SN00037200.npy ... 222\n"
     ]
    },
    {
     "name": "stderr",
     "output_type": "stream",
     "text": [
      "100%|██████████| 64/64 [00:00<00:00, 29723.78it/s]\n",
      " 90%|████████▉ | 224/250 [02:11<00:15,  1.67it/s]"
     ]
    },
    {
     "name": "stdout",
     "output_type": "stream",
     "text": [
      "Success the npy file! to /mnt/NAS/youngwon/data/crop_all/SN00037282.npy ... 223\n",
      "Success the npy file! to /mnt/NAS/youngwon/data/crop_label/SN00037282.npy ... 223\n"
     ]
    },
    {
     "name": "stderr",
     "output_type": "stream",
     "text": [
      "100%|██████████| 64/64 [00:00<00:00, 33718.81it/s]\n",
      " 90%|█████████ | 225/250 [02:12<00:13,  1.82it/s]"
     ]
    },
    {
     "name": "stdout",
     "output_type": "stream",
     "text": [
      "Success the npy file! to /mnt/NAS/youngwon/data/crop_all/SN00037315.npy ... 224\n",
      "Success the npy file! to /mnt/NAS/youngwon/data/crop_label/SN00037315.npy ... 224\n"
     ]
    },
    {
     "name": "stderr",
     "output_type": "stream",
     "text": [
      "100%|██████████| 64/64 [00:00<00:00, 33820.77it/s]\n",
      " 90%|█████████ | 226/250 [02:12<00:11,  2.00it/s]"
     ]
    },
    {
     "name": "stdout",
     "output_type": "stream",
     "text": [
      "Success the npy file! to /mnt/NAS/youngwon/data/crop_all/SN00037422.npy ... 225\n",
      "Success the npy file! to /mnt/NAS/youngwon/data/crop_label/SN00037422.npy ... 225\n"
     ]
    },
    {
     "name": "stderr",
     "output_type": "stream",
     "text": [
      "100%|██████████| 64/64 [00:00<00:00, 40390.53it/s]\n",
      " 91%|█████████ | 227/250 [02:13<00:13,  1.69it/s]"
     ]
    },
    {
     "name": "stdout",
     "output_type": "stream",
     "text": [
      "Success the npy file! to /mnt/NAS/youngwon/data/crop_all/SN00037423.npy ... 226\n",
      "Success the npy file! to /mnt/NAS/youngwon/data/crop_label/SN00037423.npy ... 226\n"
     ]
    },
    {
     "name": "stderr",
     "output_type": "stream",
     "text": [
      "100%|██████████| 64/64 [00:00<00:00, 23746.94it/s]\n",
      " 91%|█████████ | 228/250 [02:14<00:20,  1.08it/s]"
     ]
    },
    {
     "name": "stdout",
     "output_type": "stream",
     "text": [
      "Success the npy file! to /mnt/NAS/youngwon/data/crop_all/SN00037534.npy ... 227\n",
      "Success the npy file! to /mnt/NAS/youngwon/data/crop_label/SN00037534.npy ... 227\n"
     ]
    },
    {
     "name": "stderr",
     "output_type": "stream",
     "text": [
      "100%|██████████| 64/64 [00:00<00:00, 24012.47it/s]\n",
      " 92%|█████████▏| 229/250 [02:15<00:17,  1.18it/s]"
     ]
    },
    {
     "name": "stdout",
     "output_type": "stream",
     "text": [
      "Success the npy file! to /mnt/NAS/youngwon/data/crop_all/SN00037632.npy ... 228\n",
      "Success the npy file! to /mnt/NAS/youngwon/data/crop_label/SN00037632.npy ... 228\n"
     ]
    },
    {
     "name": "stderr",
     "output_type": "stream",
     "text": [
      "100%|██████████| 64/64 [00:00<00:00, 30538.73it/s]\n",
      " 92%|█████████▏| 230/250 [02:16<00:17,  1.16it/s]"
     ]
    },
    {
     "name": "stdout",
     "output_type": "stream",
     "text": [
      "Success the npy file! to /mnt/NAS/youngwon/data/crop_all/SN00037662.npy ... 229\n",
      "Success the npy file! to /mnt/NAS/youngwon/data/crop_label/SN00037662.npy ... 229\n"
     ]
    },
    {
     "name": "stderr",
     "output_type": "stream",
     "text": [
      "100%|██████████| 64/64 [00:00<00:00, 34287.32it/s]\n",
      " 92%|█████████▏| 231/250 [02:18<00:20,  1.09s/it]"
     ]
    },
    {
     "name": "stdout",
     "output_type": "stream",
     "text": [
      "Success the npy file! to /mnt/NAS/youngwon/data/crop_all/SN00037702.npy ... 230\n",
      "Success the npy file! to /mnt/NAS/youngwon/data/crop_label/SN00037702.npy ... 230\n"
     ]
    },
    {
     "name": "stderr",
     "output_type": "stream",
     "text": [
      "100%|██████████| 64/64 [00:00<00:00, 21012.56it/s]\n",
      " 93%|█████████▎| 232/250 [02:18<00:15,  1.16it/s]"
     ]
    },
    {
     "name": "stdout",
     "output_type": "stream",
     "text": [
      "Success the npy file! to /mnt/NAS/youngwon/data/crop_all/SN00037760.npy ... 231\n",
      "Success the npy file! to /mnt/NAS/youngwon/data/crop_label/SN00037760.npy ... 231\n"
     ]
    },
    {
     "name": "stderr",
     "output_type": "stream",
     "text": [
      "100%|██████████| 64/64 [00:00<00:00, 46498.43it/s]\n",
      " 93%|█████████▎| 233/250 [02:19<00:15,  1.09it/s]"
     ]
    },
    {
     "name": "stdout",
     "output_type": "stream",
     "text": [
      "Success the npy file! to /mnt/NAS/youngwon/data/crop_all/SN00037799.npy ... 232\n",
      "Success the npy file! to /mnt/NAS/youngwon/data/crop_label/SN00037799.npy ... 232\n"
     ]
    },
    {
     "name": "stderr",
     "output_type": "stream",
     "text": [
      "100%|██████████| 64/64 [00:00<00:00, 28923.12it/s]\n",
      " 94%|█████████▎| 234/250 [02:20<00:13,  1.18it/s]"
     ]
    },
    {
     "name": "stdout",
     "output_type": "stream",
     "text": [
      "Success the npy file! to /mnt/NAS/youngwon/data/crop_all/SN00038010.npy ... 233\n",
      "Success the npy file! to /mnt/NAS/youngwon/data/crop_label/SN00038010.npy ... 233\n"
     ]
    },
    {
     "name": "stderr",
     "output_type": "stream",
     "text": [
      "100%|██████████| 64/64 [00:00<00:00, 33897.65it/s]\n",
      " 94%|█████████▍| 235/250 [02:20<00:10,  1.39it/s]"
     ]
    },
    {
     "name": "stdout",
     "output_type": "stream",
     "text": [
      "Success the npy file! to /mnt/NAS/youngwon/data/crop_all/SN00038291.npy ... 234\n",
      "Success the npy file! to /mnt/NAS/youngwon/data/crop_label/SN00038291.npy ... 234\n"
     ]
    },
    {
     "name": "stderr",
     "output_type": "stream",
     "text": [
      "100%|██████████| 64/64 [00:00<00:00, 35085.02it/s]\n",
      " 94%|█████████▍| 236/250 [02:21<00:10,  1.38it/s]"
     ]
    },
    {
     "name": "stdout",
     "output_type": "stream",
     "text": [
      "Success the npy file! to /mnt/NAS/youngwon/data/crop_all/SN00038640.npy ... 235\n",
      "Success the npy file! to /mnt/NAS/youngwon/data/crop_label/SN00038640.npy ... 235\n"
     ]
    },
    {
     "name": "stderr",
     "output_type": "stream",
     "text": [
      "100%|██████████| 64/64 [00:00<00:00, 26948.65it/s]\n",
      " 95%|█████████▍| 237/250 [02:21<00:07,  1.65it/s]"
     ]
    },
    {
     "name": "stdout",
     "output_type": "stream",
     "text": [
      "Success the npy file! to /mnt/NAS/youngwon/data/crop_all/SN00038804.npy ... 236\n",
      "Success the npy file! to /mnt/NAS/youngwon/data/crop_label/SN00038804.npy ... 236\n"
     ]
    },
    {
     "name": "stderr",
     "output_type": "stream",
     "text": [
      "100%|██████████| 64/64 [00:00<00:00, 39963.59it/s]\n",
      " 95%|█████████▌| 238/250 [02:22<00:06,  1.79it/s]"
     ]
    },
    {
     "name": "stdout",
     "output_type": "stream",
     "text": [
      "Success the npy file! to /mnt/NAS/youngwon/data/crop_all/SN00038880.npy ... 237\n",
      "Success the npy file! to /mnt/NAS/youngwon/data/crop_label/SN00038880.npy ... 237\n"
     ]
    },
    {
     "name": "stderr",
     "output_type": "stream",
     "text": [
      "100%|██████████| 64/64 [00:00<00:00, 32400.18it/s]\n",
      " 96%|█████████▌| 239/250 [02:22<00:05,  1.96it/s]"
     ]
    },
    {
     "name": "stdout",
     "output_type": "stream",
     "text": [
      "Success the npy file! to /mnt/NAS/youngwon/data/crop_all/SN00038886.npy ... 238\n",
      "Success the npy file! to /mnt/NAS/youngwon/data/crop_label/SN00038886.npy ... 238\n"
     ]
    },
    {
     "name": "stderr",
     "output_type": "stream",
     "text": [
      "100%|██████████| 64/64 [00:00<00:00, 46912.87it/s]\n",
      " 96%|█████████▌| 240/250 [02:22<00:04,  2.14it/s]"
     ]
    },
    {
     "name": "stdout",
     "output_type": "stream",
     "text": [
      "Success the npy file! to /mnt/NAS/youngwon/data/crop_all/SN00038978.npy ... 239\n",
      "Success the npy file! to /mnt/NAS/youngwon/data/crop_label/SN00038978.npy ... 239\n"
     ]
    },
    {
     "name": "stderr",
     "output_type": "stream",
     "text": [
      "100%|██████████| 64/64 [00:00<00:00, 42339.98it/s]\n",
      " 96%|█████████▋| 241/250 [02:23<00:03,  2.26it/s]"
     ]
    },
    {
     "name": "stdout",
     "output_type": "stream",
     "text": [
      "Success the npy file! to /mnt/NAS/youngwon/data/crop_all/SN00038979.npy ... 240\n",
      "Success the npy file! to /mnt/NAS/youngwon/data/crop_label/SN00038979.npy ... 240\n"
     ]
    },
    {
     "name": "stderr",
     "output_type": "stream",
     "text": [
      "100%|██████████| 64/64 [00:00<00:00, 37412.61it/s]\n",
      " 97%|█████████▋| 242/250 [02:23<00:03,  2.33it/s]"
     ]
    },
    {
     "name": "stdout",
     "output_type": "stream",
     "text": [
      "Success the npy file! to /mnt/NAS/youngwon/data/crop_all/SN00039034.npy ... 241\n",
      "Success the npy file! to /mnt/NAS/youngwon/data/crop_label/SN00039034.npy ... 241\n"
     ]
    },
    {
     "name": "stderr",
     "output_type": "stream",
     "text": [
      "100%|██████████| 64/64 [00:00<00:00, 41988.97it/s]\n",
      " 97%|█████████▋| 243/250 [02:24<00:03,  2.32it/s]"
     ]
    },
    {
     "name": "stdout",
     "output_type": "stream",
     "text": [
      "Success the npy file! to /mnt/NAS/youngwon/data/crop_all/SN00039255.npy ... 242\n",
      "Success the npy file! to /mnt/NAS/youngwon/data/crop_label/SN00039255.npy ... 242\n"
     ]
    },
    {
     "name": "stderr",
     "output_type": "stream",
     "text": [
      "100%|██████████| 64/64 [00:00<00:00, 30549.16it/s]\n",
      " 98%|█████████▊| 244/250 [02:24<00:02,  2.46it/s]"
     ]
    },
    {
     "name": "stdout",
     "output_type": "stream",
     "text": [
      "Success the npy file! to /mnt/NAS/youngwon/data/crop_all/SN00039449.npy ... 243\n",
      "Success the npy file! to /mnt/NAS/youngwon/data/crop_label/SN00039449.npy ... 243\n"
     ]
    },
    {
     "name": "stderr",
     "output_type": "stream",
     "text": [
      "100%|██████████| 64/64 [00:00<00:00, 44769.09it/s]\n",
      " 98%|█████████▊| 245/250 [02:24<00:02,  2.35it/s]"
     ]
    },
    {
     "name": "stdout",
     "output_type": "stream",
     "text": [
      "Success the npy file! to /mnt/NAS/youngwon/data/crop_all/SN00039486.npy ... 244\n",
      "Success the npy file! to /mnt/NAS/youngwon/data/crop_label/SN00039486.npy ... 244\n"
     ]
    },
    {
     "name": "stderr",
     "output_type": "stream",
     "text": [
      "100%|██████████| 64/64 [00:00<00:00, 29101.85it/s]\n",
      " 98%|█████████▊| 246/250 [02:25<00:02,  1.91it/s]"
     ]
    },
    {
     "name": "stdout",
     "output_type": "stream",
     "text": [
      "Success the npy file! to /mnt/NAS/youngwon/data/crop_all/SN00039715.npy ... 245\n",
      "Success the npy file! to /mnt/NAS/youngwon/data/crop_label/SN00039715.npy ... 245\n"
     ]
    },
    {
     "name": "stderr",
     "output_type": "stream",
     "text": [
      "100%|██████████| 64/64 [00:00<00:00, 27874.92it/s]\n",
      " 99%|█████████▉| 247/250 [02:26<00:01,  2.02it/s]"
     ]
    },
    {
     "name": "stdout",
     "output_type": "stream",
     "text": [
      "Success the npy file! to /mnt/NAS/youngwon/data/crop_all/SN00039803.npy ... 246\n",
      "Success the npy file! to /mnt/NAS/youngwon/data/crop_label/SN00039803.npy ... 246\n"
     ]
    },
    {
     "name": "stderr",
     "output_type": "stream",
     "text": [
      "100%|██████████| 64/64 [00:00<00:00, 32696.16it/s]\n",
      " 99%|█████████▉| 248/250 [02:26<00:01,  1.65it/s]"
     ]
    },
    {
     "name": "stdout",
     "output_type": "stream",
     "text": [
      "Success the npy file! to /mnt/NAS/youngwon/data/crop_all/SN00039839.npy ... 247\n",
      "Success the npy file! to /mnt/NAS/youngwon/data/crop_label/SN00039839.npy ... 247\n"
     ]
    },
    {
     "name": "stderr",
     "output_type": "stream",
     "text": [
      "100%|██████████| 64/64 [00:00<00:00, 24257.68it/s]\n",
      "100%|█████████▉| 249/250 [02:27<00:00,  1.87it/s]"
     ]
    },
    {
     "name": "stdout",
     "output_type": "stream",
     "text": [
      "Success the npy file! to /mnt/NAS/youngwon/data/crop_all/SN00039853.npy ... 248\n",
      "Success the npy file! to /mnt/NAS/youngwon/data/crop_label/SN00039853.npy ... 248\n"
     ]
    },
    {
     "name": "stderr",
     "output_type": "stream",
     "text": [
      "100%|██████████| 64/64 [00:00<00:00, 40876.42it/s]\n",
      "100%|██████████| 250/250 [02:27<00:00,  1.69it/s]"
     ]
    },
    {
     "name": "stdout",
     "output_type": "stream",
     "text": [
      "Success the npy file! to /mnt/NAS/youngwon/data/crop_all/SN00040039.npy ... 249\n",
      "Success the npy file! to /mnt/NAS/youngwon/data/crop_label/SN00040039.npy ... 249\n"
     ]
    },
    {
     "name": "stderr",
     "output_type": "stream",
     "text": [
      "\n"
     ]
    }
   ],
   "source": [
    "width,height,depths = 88,88,(0,64)\n",
    "center_crop(data_root='/mnt/NAS/youngwon/data/all',mask_root='/mnt/NAS/youngwon/data/label',save_root='/mnt/NAS/youngwon/data',width=width,height=height,depths=depths)"
   ]
  },
  {
   "cell_type": "code",
   "execution_count": null,
   "metadata": {},
   "outputs": [],
   "source": [
    "data_root,mask_root,save_root = '/mnt/NAS/youngwon/handle/data','/mnt/NAS/youngwon/handle/mask', '/mnt/NAS/youngwon/data/all'\n",
    "make3Ddata(data_root,mask_root,save_root)"
   ]
  },
  {
   "cell_type": "code",
   "execution_count": null,
   "metadata": {},
   "outputs": [],
   "source": [
    "data_root,mask_root,save_root = '/mnt/NAS/youngwon/handle/data','/mnt/NAS/youngwon/handle/mask', '/mnt/NAS/youngwon/data/label'\n",
    "make3Ddata(data_root,mask_root,save_root,label=True)"
   ]
  },
  {
   "cell_type": "code",
   "execution_count": 4,
   "metadata": {},
   "outputs": [],
   "source": [
    "data_root = '/mnt/NAS/youngwon/data/all'\n",
    "mask_root = '/mnt/NAS/youngwon/data/label'\n",
    "a,b = getDirs(data_root,mask_root)"
   ]
  },
  {
   "cell_type": "code",
   "execution_count": 3,
   "metadata": {},
   "outputs": [
    {
     "data": {
      "text/plain": [
       "90"
      ]
     },
     "execution_count": 3,
     "metadata": {},
     "output_type": "execute_result"
    }
   ],
   "source": [
    "len(os.listdir('/mnt/NAS/youngwon/output/test_img'))"
   ]
  },
  {
   "cell_type": "code",
   "execution_count": 5,
   "metadata": {},
   "outputs": [
    {
     "name": "stderr",
     "output_type": "stream",
     "text": [
      "  0%|          | 0/250 [00:00<?, ?it/s]\n"
     ]
    },
    {
     "ename": "AttributeError",
     "evalue": "'list' object has no attribute 'split'",
     "output_type": "error",
     "traceback": [
      "\u001b[0;31m---------------------------------------------------------------------------\u001b[0m",
      "\u001b[0;31mAttributeError\u001b[0m                            Traceback (most recent call last)",
      "Cell \u001b[0;32mIn [5], line 5\u001b[0m\n\u001b[1;32m      3\u001b[0m data \u001b[39m=\u001b[39m np\u001b[39m.\u001b[39mload(a[idx])\n\u001b[1;32m      4\u001b[0m mask \u001b[39m=\u001b[39m np\u001b[39m.\u001b[39mload(b[idx])\n\u001b[0;32m----> 5\u001b[0m patient \u001b[39m=\u001b[39m a\u001b[39m.\u001b[39;49msplit(\u001b[39m'\u001b[39m\u001b[39m/\u001b[39m\u001b[39m'\u001b[39m)[\u001b[39m-\u001b[39m\u001b[39m1\u001b[39m][:\u001b[39m-\u001b[39m\u001b[39m4\u001b[39m]\n\u001b[1;32m      6\u001b[0m cnt \u001b[39m=\u001b[39m \u001b[39m0\u001b[39m\n\u001b[1;32m      7\u001b[0m plt\u001b[39m.\u001b[39mfigure(figsize\u001b[39m=\u001b[39m(\u001b[39m18\u001b[39m,\u001b[39m18\u001b[39m))\n",
      "\u001b[0;31mAttributeError\u001b[0m: 'list' object has no attribute 'split'"
     ]
    }
   ],
   "source": [
    "cnt_list = []\n",
    "for idx in tqdm(range(91,len(a))):\n",
    "    data = np.load(a[idx])\n",
    "    mask = np.load(b[idx])\n",
    "    patient = a[idx].split('/')[-1][:-4]\n",
    "    cnt = 0\n",
    "    plt.figure(figsize=(18,18))\n",
    "    os.makedirs('/mnt/NAS/youngwon/output/test_img/test_img{0}'.format(patient),exist_ok=True)\n",
    "    root = '/mnt/NAS/youngwon/output/test_img/test_img{0}'.format(patient)\n",
    "    for i in range(len(data)):\n",
    "        plt.subplot(1,2,1)\n",
    "        plt.imshow(data[i],cmap='gray')\n",
    "        plt.subplot(1,2,2)\n",
    "        if mask[i].sum() > 1:\n",
    "            cnt+=1\n",
    "            \n",
    "        plt.imshow(mask[i],cmap='gray')\n",
    "        plt.savefig(root+'/test{0:03d}.png'.format(i))\n",
    "        plt.close()\n",
    "    print(cnt)\n",
    "    cnt_list.append(cnt)"
   ]
  },
  {
   "cell_type": "code",
   "execution_count": 3,
   "metadata": {},
   "outputs": [
    {
     "name": "stderr",
     "output_type": "stream",
     "text": [
      "/home/youngwon/.local/lib/python3.8/site-packages/tqdm/auto.py:22: TqdmWarning: IProgress not found. Please update jupyter and ipywidgets. See https://ipywidgets.readthedocs.io/en/stable/user_install.html\n",
      "  from .autonotebook import tqdm as notebook_tqdm\n",
      "/usr/lib/python3/dist-packages/requests/__init__.py:89: RequestsDependencyWarning: urllib3 (1.26.13) or chardet (3.0.4) doesn't match a supported version!\n",
      "  warnings.warn(\"urllib3 ({}) or chardet ({}) doesn't match a supported \"\n"
     ]
    }
   ],
   "source": [
    "from import_module import *"
   ]
  },
  {
   "cell_type": "code",
   "execution_count": 8,
   "metadata": {},
   "outputs": [],
   "source": [
    "a = os.listdir('/mnt/NAS/youngwon/interpolation')"
   ]
  },
  {
   "cell_type": "code",
   "execution_count": 9,
   "metadata": {},
   "outputs": [
    {
     "data": {
      "text/plain": [
       "196"
      ]
     },
     "execution_count": 9,
     "metadata": {},
     "output_type": "execute_result"
    }
   ],
   "source": [
    "a.index('SN00034479')"
   ]
  },
  {
   "cell_type": "code",
   "execution_count": 18,
   "metadata": {},
   "outputs": [],
   "source": [
    "data_root = '/mnt/NAS/youngwon/data/all/SN00034479.npy'\n",
    "mask_root = '/mnt/NAS/youngwon/data/label/SN00034479_mask.npy'\n",
    "data = np.load(data_root)\n",
    "mask = np.load(mask_root)\n",
    "root = f'/mnt/NAS/youngwon/output/test_img196'\n",
    "os.makedirs(root,exist_ok=True)\n",
    "for i in range(len(data)):\n",
    "    plt.subplot(1,2,1)\n",
    "    plt.imshow(data[i],cmap='gray')\n",
    "    plt.subplot(1,2,2)\n",
    "    plt.imshow(mask[i],cmap='gray')\n",
    "    plt.savefig(root+f'/test{i}.png')\n",
    "    plt.close()"
   ]
  },
  {
   "cell_type": "code",
   "execution_count": null,
   "metadata": {},
   "outputs": [],
   "source": [
    "data = np.load(a)\n",
    "mask = np.load(b)"
   ]
  }
 ],
 "metadata": {
  "kernelspec": {
   "display_name": "Python 3.8.10 64-bit",
   "language": "python",
   "name": "python3"
  },
  "language_info": {
   "codemirror_mode": {
    "name": "ipython",
    "version": 3
   },
   "file_extension": ".py",
   "mimetype": "text/x-python",
   "name": "python",
   "nbconvert_exporter": "python",
   "pygments_lexer": "ipython3",
   "version": "3.8.10"
  },
  "orig_nbformat": 4,
  "vscode": {
   "interpreter": {
    "hash": "916dbcbb3f70747c44a77c7bcd40155683ae19c65e1c03b4aa3499c5328201f1"
   }
  }
 },
 "nbformat": 4,
 "nbformat_minor": 2
}

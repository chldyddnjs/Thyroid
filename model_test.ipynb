{
 "cells": [
  {
   "cell_type": "code",
   "execution_count": 1,
   "metadata": {},
   "outputs": [
    {
     "name": "stderr",
     "output_type": "stream",
     "text": [
      "/home/youngwon/.local/lib/python3.8/site-packages/tqdm/auto.py:22: TqdmWarning: IProgress not found. Please update jupyter and ipywidgets. See https://ipywidgets.readthedocs.io/en/stable/user_install.html\n",
      "  from .autonotebook import tqdm as notebook_tqdm\n",
      "/usr/lib/python3/dist-packages/requests/__init__.py:89: RequestsDependencyWarning: urllib3 (1.26.13) or chardet (3.0.4) doesn't match a supported version!\n",
      "  warnings.warn(\"urllib3 ({}) or chardet ({}) doesn't match a supported \"\n"
     ]
    }
   ],
   "source": [
    "from import_module import *"
   ]
  },
  {
   "cell_type": "code",
   "execution_count": 20,
   "metadata": {},
   "outputs": [],
   "source": [
    "def conv_block(in_channels,out_channels,kernel_size,stride,padding,dilation=1,relu=True):\n",
    "    layers = []\n",
    "    layers += [nn.Conv2d(in_channels,out_channels,kernel_size,stride,padding,dilation,bias=False)]\n",
    "    layers += [nn.BatchNorm2d(out_channels)]\n",
    "    if relu:\n",
    "        layers += [nn.ReLU()]\n",
    "    return nn.Sequential(*layers)"
   ]
  },
  {
   "cell_type": "code",
   "execution_count": 21,
   "metadata": {},
   "outputs": [],
   "source": [
    "class Bottleneck(nn.Module):\n",
    "    def __init__(self,in_channels,out_channels,stride=1,dilation=1,downsample=False):\n",
    "        super().__init__()\n",
    "        self.block = nn.Sequential(\n",
    "            conv_block(in_channels,out_channels//4,kernel_size=1,stride=1,padding=0),\n",
    "            conv_block(out_channels//4,out_channels//4,3,stride,dilation,dilation),\n",
    "            conv_block(out_channels//4,out_channels,kernel_size=1,stride=1,padding=0,relu=False)\n",
    "        )\n",
    "        self.downsample = nn.Sequential(\n",
    "            conv_block(in_channels,out_channels,kernel_size=1,stride=stride,padding=0,relu=False)\n",
    "        ) if downsample else None\n",
    "        \n",
    "        self.relu=nn.ReLU()\n",
    "    \n",
    "    def forward(self,x):\n",
    "        identity = x\n",
    "        out = self.block(x)\n",
    "        \n",
    "        if self.downsample is not None:\n",
    "            identity = self.downsample(x)\n",
    "        out += identity\n",
    "        out = self.relu(out)\n",
    "        return out\n",
    "        "
   ]
  },
  {
   "cell_type": "code",
   "execution_count": 22,
   "metadata": {},
   "outputs": [],
   "source": [
    "class ResBlock(nn.Module):\n",
    "    def __init__(self,in_channels,out_channels,stride,dilation,num_layers):\n",
    "        super().__init__()\n",
    "        block = []\n",
    "        for i in range(num_layers):\n",
    "            block.append(Bottleneck(\n",
    "                in_channels if i==0 else out_channels,\n",
    "                out_channels,\n",
    "                stride if i==0 else 1,\n",
    "                dilation,\n",
    "                True if i==0 else False\n",
    "            ))\n",
    "        self.block = nn.Sequential(*block)\n",
    "    def forward(self,x):\n",
    "        return self.block(x)\n",
    "    \n",
    "        "
   ]
  },
  {
   "cell_type": "code",
   "execution_count": 23,
   "metadata": {},
   "outputs": [],
   "source": [
    "class ASPP(nn.Module):\n",
    "    def __init__(self,in_channels,out_channels):\n",
    "        super().__init__()\n",
    "        self.rate6_block = nn.Sequential(\n",
    "            conv_block(in_channels,in_channels,3,1,padding=6,dilation=6),\n",
    "            conv_block(in_channels,in_channels,1,1,0),\n",
    "            conv_block(in_channels,out_channels,1,1,0)\n",
    "        )\n",
    "        self.rate12_block = nn.Sequential(\n",
    "            conv_block(in_channels,in_channels,3,1,padding=12,dilation=12),\n",
    "            conv_block(in_channels,in_channels,1,1,0),\n",
    "            conv_block(in_channels,out_channels,1,1,0)\n",
    "        )\n",
    "        self.rate18_block = nn.Sequential(\n",
    "            conv_block(in_channels,in_channels,3,1,padding=18,dilation=18),\n",
    "            conv_block(in_channels,in_channels,1,1,0),\n",
    "            conv_block(in_channels,out_channels,1,1,0)\n",
    "        )\n",
    "        self.rate24_block = nn.Sequential(\n",
    "            conv_block(in_channels,in_channels,3,1,padding=24,dilation=24),\n",
    "            conv_block(in_channels,in_channels,1,1,0),\n",
    "            conv_block(in_channels,out_channels,1,1,0),\n",
    "        )\n",
    "    def forward(self,x):\n",
    "        out1 = self.rate6_block(x)\n",
    "        out2 = self.rate12_block(x)\n",
    "        out3 = self.rate18_block(x)\n",
    "        out4 = self.rate24_block(x)\n",
    "        \n",
    "        return out1+out2+out3+out4\n",
    "    "
   ]
  },
  {
   "cell_type": "code",
   "execution_count": 28,
   "metadata": {},
   "outputs": [],
   "source": [
    "from import_module import *\n",
    "pred = np.load('/mnt/NAS/youngwon/output/checkImg/013_pred.npy')\n",
    "mask = np.load('/mnt/NAS/youngwon/output/checkImg/013_mask.npy')"
   ]
  },
  {
   "cell_type": "code",
   "execution_count": 29,
   "metadata": {},
   "outputs": [],
   "source": [
    "pred2 = pred[-1].squeeze()"
   ]
  },
  {
   "cell_type": "code",
   "execution_count": 30,
   "metadata": {},
   "outputs": [
    {
     "data": {
      "text/plain": [
       "(64, 128, 128)"
      ]
     },
     "execution_count": 30,
     "metadata": {},
     "output_type": "execute_result"
    }
   ],
   "source": [
    "pred2.shape"
   ]
  },
  {
   "cell_type": "code",
   "execution_count": 31,
   "metadata": {},
   "outputs": [
    {
     "data": {
      "text/plain": [
       "<matplotlib.image.AxesImage at 0x7fb4fd65f610>"
      ]
     },
     "execution_count": 31,
     "metadata": {},
     "output_type": "execute_result"
    },
    {
     "data": {
      "image/png": "[encoded data removed]",
      "text/plain": [
       "<Figure size 640x480 with 1 Axes>"
      ]
     },
     "metadata": {},
     "output_type": "display_data"
    }
   ],
   "source": [
    "plt.imshow(pred2[0],cmap='gray')"
   ]
  },
  {
   "cell_type": "code",
   "execution_count": 25,
   "metadata": {},
   "outputs": [],
   "source": [
    "mask2 = mask[-1].squeeze()"
   ]
  },
  {
   "cell_type": "code",
   "execution_count": 26,
   "metadata": {},
   "outputs": [
    {
     "data": {
      "text/plain": [
       "<matplotlib.image.AxesImage at 0x7fb4fd68e460>"
      ]
     },
     "execution_count": 26,
     "metadata": {},
     "output_type": "execute_result"
    },
    {
     "data": {
      "image/png": "[encoded data removed]",
      "text/plain": [
       "<Figure size 640x480 with 1 Axes>"
      ]
     },
     "metadata": {},
     "output_type": "display_data"
    }
   ],
   "source": [
    "plt.imshow(mask2[0],cmap='gray')"
   ]
  },
  {
   "cell_type": "code",
   "execution_count": null,
   "metadata": {},
   "outputs": [],
   "source": []
  }
 ],
 "metadata": {
  "kernelspec": {
   "display_name": "Python 3.8.10 64-bit",
   "language": "python",
   "name": "python3"
  },
  "language_info": {
   "codemirror_mode": {
    "name": "ipython",
    "version": 3
   },
   "file_extension": ".py",
   "mimetype": "text/x-python",
   "name": "python",
   "nbconvert_exporter": "python",
   "pygments_lexer": "ipython3",
   "version": "3.8.10"
  },
  "orig_nbformat": 4,
  "vscode": {
   "interpreter": {
    "hash": "916dbcbb3f70747c44a77c7bcd40155683ae19c65e1c03b4aa3499c5328201f1"
   }
  }
 },
 "nbformat": 4,
 "nbformat_minor": 2
}

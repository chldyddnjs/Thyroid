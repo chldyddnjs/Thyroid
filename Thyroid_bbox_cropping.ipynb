{
 "cells": [
  {
   "cell_type": "code",
   "execution_count": 2,
   "metadata": {},
   "outputs": [],
   "source": [
    "from import_module import *"
   ]
  },
  {
   "cell_type": "code",
   "execution_count": 3,
   "metadata": {},
   "outputs": [
    {
     "data": {
      "text/html": [
       "<div>\n",
       "<style scoped>\n",
       "    .dataframe tbody tr th:only-of-type {\n",
       "        vertical-align: middle;\n",
       "    }\n",
       "\n",
       "    .dataframe tbody tr th {\n",
       "        vertical-align: top;\n",
       "    }\n",
       "\n",
       "    .dataframe thead th {\n",
       "        text-align: right;\n",
       "    }\n",
       "</style>\n",
       "<table border=\"1\" class=\"dataframe\">\n",
       "  <thead>\n",
       "    <tr style=\"text-align: right;\">\n",
       "      <th></th>\n",
       "      <th>subject</th>\n",
       "      <th>slice_location</th>\n",
       "      <th>roi_number</th>\n",
       "      <th>x_min</th>\n",
       "      <th>y_min</th>\n",
       "      <th>x_max</th>\n",
       "      <th>y_max</th>\n",
       "    </tr>\n",
       "  </thead>\n",
       "  <tbody>\n",
       "    <tr>\n",
       "      <th>0</th>\n",
       "      <td>SN00000130</td>\n",
       "      <td>134</td>\n",
       "      <td>1</td>\n",
       "      <td>271</td>\n",
       "      <td>251</td>\n",
       "      <td>283</td>\n",
       "      <td>259</td>\n",
       "    </tr>\n",
       "    <tr>\n",
       "      <th>1</th>\n",
       "      <td>SN00000130</td>\n",
       "      <td>135</td>\n",
       "      <td>1</td>\n",
       "      <td>269</td>\n",
       "      <td>245</td>\n",
       "      <td>285</td>\n",
       "      <td>264</td>\n",
       "    </tr>\n",
       "    <tr>\n",
       "      <th>2</th>\n",
       "      <td>SN00000130</td>\n",
       "      <td>136</td>\n",
       "      <td>1</td>\n",
       "      <td>269</td>\n",
       "      <td>245</td>\n",
       "      <td>287</td>\n",
       "      <td>267</td>\n",
       "    </tr>\n",
       "    <tr>\n",
       "      <th>3</th>\n",
       "      <td>SN00000130</td>\n",
       "      <td>137</td>\n",
       "      <td>1</td>\n",
       "      <td>271</td>\n",
       "      <td>245</td>\n",
       "      <td>285</td>\n",
       "      <td>261</td>\n",
       "    </tr>\n",
       "    <tr>\n",
       "      <th>4</th>\n",
       "      <td>SN00000222</td>\n",
       "      <td>135</td>\n",
       "      <td>1</td>\n",
       "      <td>286</td>\n",
       "      <td>240</td>\n",
       "      <td>293</td>\n",
       "      <td>246</td>\n",
       "    </tr>\n",
       "  </tbody>\n",
       "</table>\n",
       "</div>"
      ],
      "text/plain": [
       "      subject  slice_location  roi_number  x_min  y_min  x_max  y_max\n",
       "0  SN00000130             134           1    271    251    283    259\n",
       "1  SN00000130             135           1    269    245    285    264\n",
       "2  SN00000130             136           1    269    245    287    267\n",
       "3  SN00000130             137           1    271    245    285    261\n",
       "4  SN00000222             135           1    286    240    293    246"
      ]
     },
     "execution_count": 3,
     "metadata": {},
     "output_type": "execute_result"
    }
   ],
   "source": [
    "df = pd.read_csv('/mnt/NAS/youngwon/handle/nodule_bboxes.csv')\n",
    "df.head()"
   ]
  },
  {
   "cell_type": "code",
   "execution_count": 4,
   "metadata": {},
   "outputs": [
    {
     "data": {
      "text/html": [
       "<div>\n",
       "<style scoped>\n",
       "    .dataframe tbody tr th:only-of-type {\n",
       "        vertical-align: middle;\n",
       "    }\n",
       "\n",
       "    .dataframe tbody tr th {\n",
       "        vertical-align: top;\n",
       "    }\n",
       "\n",
       "    .dataframe thead th {\n",
       "        text-align: right;\n",
       "    }\n",
       "</style>\n",
       "<table border=\"1\" class=\"dataframe\">\n",
       "  <thead>\n",
       "    <tr style=\"text-align: right;\">\n",
       "      <th></th>\n",
       "      <th>subject</th>\n",
       "      <th>slice_location</th>\n",
       "      <th>roi_number</th>\n",
       "      <th>x_min</th>\n",
       "      <th>y_min</th>\n",
       "      <th>x_max</th>\n",
       "      <th>y_max</th>\n",
       "    </tr>\n",
       "  </thead>\n",
       "  <tbody>\n",
       "    <tr>\n",
       "      <th>1511</th>\n",
       "      <td>SN00026194</td>\n",
       "      <td>133</td>\n",
       "      <td>5</td>\n",
       "      <td>274</td>\n",
       "      <td>229</td>\n",
       "      <td>289</td>\n",
       "      <td>241</td>\n",
       "    </tr>\n",
       "    <tr>\n",
       "      <th>1845</th>\n",
       "      <td>SN00030334</td>\n",
       "      <td>137</td>\n",
       "      <td>5</td>\n",
       "      <td>249</td>\n",
       "      <td>187</td>\n",
       "      <td>255</td>\n",
       "      <td>190</td>\n",
       "    </tr>\n",
       "  </tbody>\n",
       "</table>\n",
       "</div>"
      ],
      "text/plain": [
       "         subject  slice_location  roi_number  x_min  y_min  x_max  y_max\n",
       "1511  SN00026194             133           5    274    229    289    241\n",
       "1845  SN00030334             137           5    249    187    255    190"
      ]
     },
     "execution_count": 4,
     "metadata": {},
     "output_type": "execute_result"
    }
   ],
   "source": [
    "df[df['roi_number'] == 5]"
   ]
  },
  {
   "cell_type": "code",
   "execution_count": 5,
   "metadata": {},
   "outputs": [
    {
     "data": {
      "text/plain": [
       "Index(['subject', 'slice_location', 'roi_number', 'x_min', 'y_min', 'x_max',\n",
       "       'y_max'],\n",
       "      dtype='object')"
      ]
     },
     "execution_count": 5,
     "metadata": {},
     "output_type": "execute_result"
    }
   ],
   "source": [
    "bboxes = df[['x_min','y_min','x_max','y_max']].apply(list).values\n",
    "title = df[['subject','slice_location']].astype(str).values\n",
    "df.columns"
   ]
  },
  {
   "cell_type": "code",
   "execution_count": 6,
   "metadata": {},
   "outputs": [
    {
     "data": {
      "text/plain": [
       "array([['SN00000130', '134'],\n",
       "       ['SN00000130', '135'],\n",
       "       ['SN00000130', '136'],\n",
       "       ...,\n",
       "       ['SN00040039', '134'],\n",
       "       ['SN00040039', '137'],\n",
       "       ['SN00040039', '138']], dtype=object)"
      ]
     },
     "execution_count": 6,
     "metadata": {},
     "output_type": "execute_result"
    }
   ],
   "source": [
    "title"
   ]
  },
  {
   "cell_type": "code",
   "execution_count": 7,
   "metadata": {},
   "outputs": [
    {
     "data": {
      "text/html": [
       "<div>\n",
       "<style scoped>\n",
       "    .dataframe tbody tr th:only-of-type {\n",
       "        vertical-align: middle;\n",
       "    }\n",
       "\n",
       "    .dataframe tbody tr th {\n",
       "        vertical-align: top;\n",
       "    }\n",
       "\n",
       "    .dataframe thead th {\n",
       "        text-align: right;\n",
       "    }\n",
       "</style>\n",
       "<table border=\"1\" class=\"dataframe\">\n",
       "  <thead>\n",
       "    <tr style=\"text-align: right;\">\n",
       "      <th></th>\n",
       "      <th>subject</th>\n",
       "      <th>slice_location</th>\n",
       "      <th>roi_number</th>\n",
       "      <th>x_min</th>\n",
       "      <th>y_min</th>\n",
       "      <th>x_max</th>\n",
       "      <th>y_max</th>\n",
       "    </tr>\n",
       "  </thead>\n",
       "  <tbody>\n",
       "    <tr>\n",
       "      <th>1511</th>\n",
       "      <td>SN00026194</td>\n",
       "      <td>133</td>\n",
       "      <td>5</td>\n",
       "      <td>274</td>\n",
       "      <td>229</td>\n",
       "      <td>289</td>\n",
       "      <td>241</td>\n",
       "    </tr>\n",
       "    <tr>\n",
       "      <th>1845</th>\n",
       "      <td>SN00030334</td>\n",
       "      <td>137</td>\n",
       "      <td>5</td>\n",
       "      <td>249</td>\n",
       "      <td>187</td>\n",
       "      <td>255</td>\n",
       "      <td>190</td>\n",
       "    </tr>\n",
       "  </tbody>\n",
       "</table>\n",
       "</div>"
      ],
      "text/plain": [
       "         subject  slice_location  roi_number  x_min  y_min  x_max  y_max\n",
       "1511  SN00026194             133           5    274    229    289    241\n",
       "1845  SN00030334             137           5    249    187    255    190"
      ]
     },
     "execution_count": 7,
     "metadata": {},
     "output_type": "execute_result"
    }
   ],
   "source": [
    "df[df['roi_number']==5]"
   ]
  },
  {
   "cell_type": "code",
   "execution_count": 8,
   "metadata": {},
   "outputs": [
    {
     "data": {
      "text/plain": [
       "[array([293, 213, 302, 223]),\n",
       " array([228, 193, 233, 198]),\n",
       " array([239, 200, 245, 206]),\n",
       " array([234, 215, 240, 221]),\n",
       " array([249, 187, 255, 190])]"
      ]
     },
     "execution_count": 8,
     "metadata": {},
     "output_type": "execute_result"
    }
   ],
   "source": [
    "db = {}\n",
    "for a,b in zip(title,bboxes):\n",
    "    key = '/'.join(a)\n",
    "    if key not in db:\n",
    "        db[key] = [b]\n",
    "    else:\n",
    "        db[key].append(b)\n",
    "db['SN00030334/137']"
   ]
  },
  {
   "cell_type": "code",
   "execution_count": 17,
   "metadata": {},
   "outputs": [],
   "source": [
    "root = '/mnt/NAS/youngwon/test'\n",
    "a,b = getDirs(data_root=root)\n",
    "for key,value in db.items():\n",
    "    temp = key.split('/')\n",
    "    os.makedirs('/mnt/NAS/youngwon/bboxes/{0}'.format(temp[0]),exist_ok=True)\n",
    "    img_path = '{0}/{1}/{2:03d}.png'.format(root,temp[0],int(temp[1])-1)\n",
    "    img = Image.open(img_path).convert('RGB')\n",
    "    draw = ImageDraw.Draw(img)\n",
    "    for i in range(len(value)):\n",
    "        draw.rectangle((db[key][i]), outline=np.random.randint(0,255), width = 1)\n",
    "    f,ax = plt.figure(figsize=(18,18)) , plt.subplot(1,1,1)\n",
    "    ax.imshow(img)\n",
    "    ax.axis('tight')\n",
    "    plt.savefig('/mnt/NAS/youngwon/bboxes/{0}/{1}.png'.format(temp[0],temp[1]))\n",
    "    plt.close()"
   ]
  },
  {
   "cell_type": "code",
   "execution_count": null,
   "metadata": {},
   "outputs": [
    {
     "data": {
      "text/plain": [
       "(137, 512, 512)"
      ]
     },
     "execution_count": 5,
     "metadata": {},
     "output_type": "execute_result"
    }
   ],
   "source": []
  }
 ],
 "metadata": {
  "kernelspec": {
   "display_name": "Python 3.8.10 64-bit",
   "language": "python",
   "name": "python3"
  },
  "language_info": {
   "codemirror_mode": {
    "name": "ipython",
    "version": 3
   },
   "file_extension": ".py",
   "mimetype": "text/x-python",
   "name": "python",
   "nbconvert_exporter": "python",
   "pygments_lexer": "ipython3",
   "version": "3.8.10"
  },
  "orig_nbformat": 4,
  "vscode": {
   "interpreter": {
    "hash": "916dbcbb3f70747c44a77c7bcd40155683ae19c65e1c03b4aa3499c5328201f1"
   }
  }
 },
 "nbformat": 4,
 "nbformat_minor": 2
}

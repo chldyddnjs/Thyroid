{
 "cells": [
  {
   "cell_type": "code",
   "execution_count": 1,
   "metadata": {},
   "outputs": [
    {
     "name": "stderr",
     "output_type": "stream",
     "text": [
      "/home/youngwon/.local/lib/python3.8/site-packages/tqdm/auto.py:22: TqdmWarning: IProgress not found. Please update jupyter and ipywidgets. See https://ipywidgets.readthedocs.io/en/stable/user_install.html\n",
      "  from .autonotebook import tqdm as notebook_tqdm\n"
     ]
    }
   ],
   "source": [
    "from import_module import *"
   ]
  },
  {
   "cell_type": "code",
   "execution_count": 2,
   "metadata": {},
   "outputs": [],
   "source": [
    "columns = ['patient_id','data','mask']\n",
    "df = pd.DataFrame(columns=columns)"
   ]
  },
  {
   "cell_type": "code",
   "execution_count": 3,
   "metadata": {},
   "outputs": [],
   "source": [
    "data_root = '/mnt/NAS/youngwon/data/crop_all'\n",
    "mask_root = '/mnt/NAS/youngwon/data/crop_label'\n",
    "patient_id = [path[:-4] for path in os.listdir(data_root)]\n",
    "data_paths = [os.path.join(data_root,path) for path in os.listdir(data_root)]\n",
    "mask_paths = [os.path.join(mask_root,path) for path in os.listdir(mask_root)]"
   ]
  },
  {
   "cell_type": "code",
   "execution_count": 4,
   "metadata": {},
   "outputs": [],
   "source": [
    "df = pd.DataFrame(list(zip(patient_id,data_paths,mask_paths)),columns=columns)\n",
    "df.to_csv('/mnt/NAS/youngwon/data/crop_all.csv',index=False)"
   ]
  },
  {
   "cell_type": "code",
   "execution_count": 51,
   "metadata": {},
   "outputs": [
    {
     "data": {
      "text/plain": [
       "\"\\nfor path in mask_paths:\\n    old_name = path\\n    new_name = path[:-4] + '_mask' + path[-4:]\\n    os.rename(old_name,new_name)\\n\""
      ]
     },
     "execution_count": 51,
     "metadata": {},
     "output_type": "execute_result"
    }
   ],
   "source": [
    "'''\n",
    "for path in mask_paths:\n",
    "    old_name = path\n",
    "    new_name = path[:-4] + '_mask' + path[-4:]\n",
    "    os.rename(old_name,new_name)\n",
    "'''"
   ]
  },
  {
   "cell_type": "code",
   "execution_count": 6,
   "metadata": {},
   "outputs": [],
   "source": [
    "df = pd.read_csv('/mnt/NAS/youngwon/data/crop_all.csv')"
   ]
  },
  {
   "cell_type": "code",
   "execution_count": 7,
   "metadata": {},
   "outputs": [],
   "source": [
    "from sklearn.model_selection import KFold\n",
    "kfold = KFold(n_splits=5,shuffle=True)\n",
    "trains = []\n",
    "valids = []\n",
    "tests = []\n",
    "for k, (train_index1,test_index) in enumerate(kfold.split(df)):\n",
    "    train_df1 = df.iloc[train_index1]\n",
    "    test_df = df.iloc[test_index]\n",
    "    trains.append(train_df1)\n",
    "    tests.append(test_df)\n"
   ]
  },
  {
   "cell_type": "code",
   "execution_count": 8,
   "metadata": {},
   "outputs": [],
   "source": [
    "number = np.random.randint(0,5)"
   ]
  },
  {
   "cell_type": "code",
   "execution_count": 9,
   "metadata": {},
   "outputs": [
    {
     "name": "stdout",
     "output_type": "stream",
     "text": [
      "0\n"
     ]
    }
   ],
   "source": [
    "print(number)\n",
    "train_set = trains[number]\n",
    "test_set = tests[number]"
   ]
  },
  {
   "cell_type": "code",
   "execution_count": 10,
   "metadata": {},
   "outputs": [],
   "source": [
    "test_set.to_csv('/mnt/NAS/youngwon/data/crop_test.csv',index=False)"
   ]
  },
  {
   "cell_type": "code",
   "execution_count": 11,
   "metadata": {},
   "outputs": [],
   "source": [
    "trains = []\n",
    "valids = []\n",
    "for k, (train_index,valid_index) in enumerate(kfold.split(train_set)):\n",
    "    train_df = df.iloc[train_index]\n",
    "    valid_df = df.iloc[valid_index]\n",
    "    trains.append(train_df)\n",
    "    valids.append(valid_df)\n"
   ]
  },
  {
   "cell_type": "code",
   "execution_count": 12,
   "metadata": {},
   "outputs": [],
   "source": [
    "for index,(t,v) in enumerate(zip(trains,valids)):\n",
    "    t.to_csv(f'/mnt/NAS/youngwon/data/crop_train{index}.csv',index=False)\n",
    "    v.to_csv(f'/mnt/NAS/youngwon/data/crop_val{index}.csv',index=False)"
   ]
  },
  {
   "cell_type": "code",
   "execution_count": 13,
   "metadata": {},
   "outputs": [
    {
     "data": {
      "text/plain": [
       "['/mnt/NAS/youngwon/data/crop_all/SN00000130.npy',\n",
       " '/mnt/NAS/youngwon/data/crop_all/SN00000222.npy',\n",
       " '/mnt/NAS/youngwon/data/crop_all/SN00000303.npy',\n",
       " '/mnt/NAS/youngwon/data/crop_all/SN00000365.npy',\n",
       " '/mnt/NAS/youngwon/data/crop_all/SN00000528.npy',\n",
       " '/mnt/NAS/youngwon/data/crop_all/SN00000939.npy',\n",
       " '/mnt/NAS/youngwon/data/crop_all/SN00001127.npy',\n",
       " '/mnt/NAS/youngwon/data/crop_all/SN00001236.npy',\n",
       " '/mnt/NAS/youngwon/data/crop_all/SN00001389.npy',\n",
       " '/mnt/NAS/youngwon/data/crop_all/SN00002126.npy',\n",
       " '/mnt/NAS/youngwon/data/crop_all/SN00002329.npy',\n",
       " '/mnt/NAS/youngwon/data/crop_all/SN00002346.npy',\n",
       " '/mnt/NAS/youngwon/data/crop_all/SN00002896.npy',\n",
       " '/mnt/NAS/youngwon/data/crop_all/SN00003148.npy',\n",
       " '/mnt/NAS/youngwon/data/crop_all/SN00003206.npy',\n",
       " '/mnt/NAS/youngwon/data/crop_all/SN00003363.npy',\n",
       " '/mnt/NAS/youngwon/data/crop_all/SN00003495.npy',\n",
       " '/mnt/NAS/youngwon/data/crop_all/SN00003621.npy',\n",
       " '/mnt/NAS/youngwon/data/crop_all/SN00004383.npy',\n",
       " '/mnt/NAS/youngwon/data/crop_all/SN00004767.npy',\n",
       " '/mnt/NAS/youngwon/data/crop_all/SN00005359.npy',\n",
       " '/mnt/NAS/youngwon/data/crop_all/SN00005954.npy',\n",
       " '/mnt/NAS/youngwon/data/crop_all/SN00006065.npy',\n",
       " '/mnt/NAS/youngwon/data/crop_all/SN00006427.npy',\n",
       " '/mnt/NAS/youngwon/data/crop_all/SN00006519.npy',\n",
       " '/mnt/NAS/youngwon/data/crop_all/SN00006550.npy',\n",
       " '/mnt/NAS/youngwon/data/crop_all/SN00006821.npy',\n",
       " '/mnt/NAS/youngwon/data/crop_all/SN00006846.npy',\n",
       " '/mnt/NAS/youngwon/data/crop_all/SN00006882.npy',\n",
       " '/mnt/NAS/youngwon/data/crop_all/SN00006884.npy',\n",
       " '/mnt/NAS/youngwon/data/crop_all/SN00007310.npy',\n",
       " '/mnt/NAS/youngwon/data/crop_all/SN00008221.npy',\n",
       " '/mnt/NAS/youngwon/data/crop_all/SN00008678.npy',\n",
       " '/mnt/NAS/youngwon/data/crop_all/SN00009042.npy',\n",
       " '/mnt/NAS/youngwon/data/crop_all/SN00009153.npy',\n",
       " '/mnt/NAS/youngwon/data/crop_all/SN00009245.npy',\n",
       " '/mnt/NAS/youngwon/data/crop_all/SN00009371.npy',\n",
       " '/mnt/NAS/youngwon/data/crop_all/SN00009413.npy',\n",
       " '/mnt/NAS/youngwon/data/crop_all/SN00009780.npy',\n",
       " '/mnt/NAS/youngwon/data/crop_all/SN00009867.npy',\n",
       " '/mnt/NAS/youngwon/data/crop_all/SN00010121.npy',\n",
       " '/mnt/NAS/youngwon/data/crop_all/SN00010304.npy',\n",
       " '/mnt/NAS/youngwon/data/crop_all/SN00010317.npy',\n",
       " '/mnt/NAS/youngwon/data/crop_all/SN00010365.npy',\n",
       " '/mnt/NAS/youngwon/data/crop_all/SN00010557.npy',\n",
       " '/mnt/NAS/youngwon/data/crop_all/SN00010746.npy',\n",
       " '/mnt/NAS/youngwon/data/crop_all/SN00010771.npy',\n",
       " '/mnt/NAS/youngwon/data/crop_all/SN00011072.npy',\n",
       " '/mnt/NAS/youngwon/data/crop_all/SN00011857.npy',\n",
       " '/mnt/NAS/youngwon/data/crop_all/SN00012114.npy',\n",
       " '/mnt/NAS/youngwon/data/crop_all/SN00012154.npy',\n",
       " '/mnt/NAS/youngwon/data/crop_all/SN00012435.npy',\n",
       " '/mnt/NAS/youngwon/data/crop_all/SN00013382.npy',\n",
       " '/mnt/NAS/youngwon/data/crop_all/SN00013529.npy',\n",
       " '/mnt/NAS/youngwon/data/crop_all/SN00013552.npy',\n",
       " '/mnt/NAS/youngwon/data/crop_all/SN00013764.npy',\n",
       " '/mnt/NAS/youngwon/data/crop_all/SN00013819.npy',\n",
       " '/mnt/NAS/youngwon/data/crop_all/SN00013839.npy',\n",
       " '/mnt/NAS/youngwon/data/crop_all/SN00014511.npy',\n",
       " '/mnt/NAS/youngwon/data/crop_all/SN00014595.npy',\n",
       " '/mnt/NAS/youngwon/data/crop_all/SN00014646.npy',\n",
       " '/mnt/NAS/youngwon/data/crop_all/SN00014883.npy',\n",
       " '/mnt/NAS/youngwon/data/crop_all/SN00015033.npy',\n",
       " '/mnt/NAS/youngwon/data/crop_all/SN00015160.npy',\n",
       " '/mnt/NAS/youngwon/data/crop_all/SN00015884.npy',\n",
       " '/mnt/NAS/youngwon/data/crop_all/SN00016105.npy',\n",
       " '/mnt/NAS/youngwon/data/crop_all/SN00016127.npy',\n",
       " '/mnt/NAS/youngwon/data/crop_all/SN00016181.npy',\n",
       " '/mnt/NAS/youngwon/data/crop_all/SN00016539.npy',\n",
       " '/mnt/NAS/youngwon/data/crop_all/SN00016597.npy',\n",
       " '/mnt/NAS/youngwon/data/crop_all/SN00016778.npy',\n",
       " '/mnt/NAS/youngwon/data/crop_all/SN00017738.npy',\n",
       " '/mnt/NAS/youngwon/data/crop_all/SN00018202.npy',\n",
       " '/mnt/NAS/youngwon/data/crop_all/SN00018213.npy',\n",
       " '/mnt/NAS/youngwon/data/crop_all/SN00018292.npy',\n",
       " '/mnt/NAS/youngwon/data/crop_all/SN00018533.npy',\n",
       " '/mnt/NAS/youngwon/data/crop_all/SN00018693.npy',\n",
       " '/mnt/NAS/youngwon/data/crop_all/SN00018715.npy',\n",
       " '/mnt/NAS/youngwon/data/crop_all/SN00019288.npy',\n",
       " '/mnt/NAS/youngwon/data/crop_all/SN00019308.npy',\n",
       " '/mnt/NAS/youngwon/data/crop_all/SN00019460.npy',\n",
       " '/mnt/NAS/youngwon/data/crop_all/SN00019934.npy',\n",
       " '/mnt/NAS/youngwon/data/crop_all/SN00020209.npy',\n",
       " '/mnt/NAS/youngwon/data/crop_all/SN00020681.npy',\n",
       " '/mnt/NAS/youngwon/data/crop_all/SN00020939.npy',\n",
       " '/mnt/NAS/youngwon/data/crop_all/SN00020964.npy',\n",
       " '/mnt/NAS/youngwon/data/crop_all/SN00021685.npy',\n",
       " '/mnt/NAS/youngwon/data/crop_all/SN00021841.npy',\n",
       " '/mnt/NAS/youngwon/data/crop_all/SN00022211.npy',\n",
       " '/mnt/NAS/youngwon/data/crop_all/SN00022757.npy',\n",
       " '/mnt/NAS/youngwon/data/crop_all/SN00022777.npy',\n",
       " '/mnt/NAS/youngwon/data/crop_all/SN00023312.npy',\n",
       " '/mnt/NAS/youngwon/data/crop_all/SN00023568.npy',\n",
       " '/mnt/NAS/youngwon/data/crop_all/SN00023741.npy',\n",
       " '/mnt/NAS/youngwon/data/crop_all/SN00023867.npy',\n",
       " '/mnt/NAS/youngwon/data/crop_all/SN00023968.npy',\n",
       " '/mnt/NAS/youngwon/data/crop_all/SN00024082.npy',\n",
       " '/mnt/NAS/youngwon/data/crop_all/SN00024127.npy',\n",
       " '/mnt/NAS/youngwon/data/crop_all/SN00024471.npy',\n",
       " '/mnt/NAS/youngwon/data/crop_all/SN00024585.npy',\n",
       " '/mnt/NAS/youngwon/data/crop_all/SN00025206.npy',\n",
       " '/mnt/NAS/youngwon/data/crop_all/SN00025251.npy',\n",
       " '/mnt/NAS/youngwon/data/crop_all/SN00025842.npy',\n",
       " '/mnt/NAS/youngwon/data/crop_all/SN00026174.npy',\n",
       " '/mnt/NAS/youngwon/data/crop_all/SN00026299.npy',\n",
       " '/mnt/NAS/youngwon/data/crop_all/SN00026645.npy',\n",
       " '/mnt/NAS/youngwon/data/crop_all/SN00026795.npy',\n",
       " '/mnt/NAS/youngwon/data/crop_all/SN00027021.npy',\n",
       " '/mnt/NAS/youngwon/data/crop_all/SN00027230.npy',\n",
       " '/mnt/NAS/youngwon/data/crop_all/SN00027273.npy',\n",
       " '/mnt/NAS/youngwon/data/crop_all/SN00027405.npy',\n",
       " '/mnt/NAS/youngwon/data/crop_all/SN00027420.npy',\n",
       " '/mnt/NAS/youngwon/data/crop_all/SN00027429.npy',\n",
       " '/mnt/NAS/youngwon/data/crop_all/SN00027573.npy',\n",
       " '/mnt/NAS/youngwon/data/crop_all/SN00027726.npy',\n",
       " '/mnt/NAS/youngwon/data/crop_all/SN00028065.npy',\n",
       " '/mnt/NAS/youngwon/data/crop_all/SN00028247.npy',\n",
       " '/mnt/NAS/youngwon/data/crop_all/SN00028677.npy',\n",
       " '/mnt/NAS/youngwon/data/crop_all/SN00028718.npy',\n",
       " '/mnt/NAS/youngwon/data/crop_all/SN00028823.npy',\n",
       " '/mnt/NAS/youngwon/data/crop_all/SN00029228.npy',\n",
       " '/mnt/NAS/youngwon/data/crop_all/SN00029280.npy',\n",
       " '/mnt/NAS/youngwon/data/crop_all/SN00029313.npy',\n",
       " '/mnt/NAS/youngwon/data/crop_all/SN00029341.npy',\n",
       " '/mnt/NAS/youngwon/data/crop_all/SN00029688.npy',\n",
       " '/mnt/NAS/youngwon/data/crop_all/SN00029776.npy',\n",
       " '/mnt/NAS/youngwon/data/crop_all/SN00030037.npy',\n",
       " '/mnt/NAS/youngwon/data/crop_all/SN00030192.npy',\n",
       " '/mnt/NAS/youngwon/data/crop_all/SN00030218.npy',\n",
       " '/mnt/NAS/youngwon/data/crop_all/SN00030334.npy',\n",
       " '/mnt/NAS/youngwon/data/crop_all/SN00030765.npy',\n",
       " '/mnt/NAS/youngwon/data/crop_all/SN00030780.npy',\n",
       " '/mnt/NAS/youngwon/data/crop_all/SN00030808.npy',\n",
       " '/mnt/NAS/youngwon/data/crop_all/SN00030918.npy',\n",
       " '/mnt/NAS/youngwon/data/crop_all/SN00031043.npy',\n",
       " '/mnt/NAS/youngwon/data/crop_all/SN00031313.npy',\n",
       " '/mnt/NAS/youngwon/data/crop_all/SN00031323.npy',\n",
       " '/mnt/NAS/youngwon/data/crop_all/SN00031461.npy',\n",
       " '/mnt/NAS/youngwon/data/crop_all/SN00031609.npy',\n",
       " '/mnt/NAS/youngwon/data/crop_all/SN00031802.npy',\n",
       " '/mnt/NAS/youngwon/data/crop_all/SN00031817.npy',\n",
       " '/mnt/NAS/youngwon/data/crop_all/SN00031845.npy',\n",
       " '/mnt/NAS/youngwon/data/crop_all/SN00031987.npy',\n",
       " '/mnt/NAS/youngwon/data/crop_all/SN00032104.npy',\n",
       " '/mnt/NAS/youngwon/data/crop_all/SN00032120.npy',\n",
       " '/mnt/NAS/youngwon/data/crop_all/SN00032438.npy',\n",
       " '/mnt/NAS/youngwon/data/crop_all/SN00032487.npy',\n",
       " '/mnt/NAS/youngwon/data/crop_all/SN00032733.npy',\n",
       " '/mnt/NAS/youngwon/data/crop_all/SN00032782.npy',\n",
       " '/mnt/NAS/youngwon/data/crop_all/SN00032809.npy',\n",
       " '/mnt/NAS/youngwon/data/crop_all/SN00032865.npy',\n",
       " '/mnt/NAS/youngwon/data/crop_all/SN00033502.npy',\n",
       " '/mnt/NAS/youngwon/data/crop_all/SN00033582.npy',\n",
       " '/mnt/NAS/youngwon/data/crop_all/SN00034083.npy',\n",
       " '/mnt/NAS/youngwon/data/crop_all/SN00034212.npy',\n",
       " '/mnt/NAS/youngwon/data/crop_all/SN00034246.npy',\n",
       " '/mnt/NAS/youngwon/data/crop_all/SN00034273.npy',\n",
       " '/mnt/NAS/youngwon/data/crop_all/SN00034485.npy',\n",
       " '/mnt/NAS/youngwon/data/crop_all/SN00034557.npy',\n",
       " '/mnt/NAS/youngwon/data/crop_all/SN00034836.npy']"
      ]
     },
     "execution_count": 13,
     "metadata": {},
     "output_type": "execute_result"
    }
   ],
   "source": [
    "df = pd.read_csv('/mnt/NAS/youngwon/data/crop_train0.csv')\n",
    "list(df['data'])"
   ]
  },
  {
   "cell_type": "code",
   "execution_count": 14,
   "metadata": {},
   "outputs": [],
   "source": [
    "a = np.load('/mnt/NAS/youngwon/data/all/SN00000130.npy')"
   ]
  },
  {
   "cell_type": "code",
   "execution_count": 15,
   "metadata": {},
   "outputs": [
    {
     "data": {
      "text/plain": [
       "(342, 335, 335)"
      ]
     },
     "execution_count": 15,
     "metadata": {},
     "output_type": "execute_result"
    }
   ],
   "source": [
    "a.shape"
   ]
  },
  {
   "cell_type": "code",
   "execution_count": 16,
   "metadata": {},
   "outputs": [],
   "source": [
    "df = pd.read_csv('/mnt/NAS/youngwon/data/train0.csv')"
   ]
  },
  {
   "cell_type": "code",
   "execution_count": 17,
   "metadata": {},
   "outputs": [
    {
     "data": {
      "text/html": [
       "<div>\n",
       "<style scoped>\n",
       "    .dataframe tbody tr th:only-of-type {\n",
       "        vertical-align: middle;\n",
       "    }\n",
       "\n",
       "    .dataframe tbody tr th {\n",
       "        vertical-align: top;\n",
       "    }\n",
       "\n",
       "    .dataframe thead th {\n",
       "        text-align: right;\n",
       "    }\n",
       "</style>\n",
       "<table border=\"1\" class=\"dataframe\">\n",
       "  <thead>\n",
       "    <tr style=\"text-align: right;\">\n",
       "      <th></th>\n",
       "      <th>patient_id</th>\n",
       "      <th>data</th>\n",
       "      <th>mask</th>\n",
       "    </tr>\n",
       "  </thead>\n",
       "  <tbody>\n",
       "    <tr>\n",
       "      <th>0</th>\n",
       "      <td>SN00000222</td>\n",
       "      <td>/mnt/NAS/youngwon/data/all/SN00000222.npy</td>\n",
       "      <td>/mnt/NAS/youngwon/data/label/SN00000222_mask.npy</td>\n",
       "    </tr>\n",
       "    <tr>\n",
       "      <th>1</th>\n",
       "      <td>SN00000303</td>\n",
       "      <td>/mnt/NAS/youngwon/data/all/SN00000303.npy</td>\n",
       "      <td>/mnt/NAS/youngwon/data/label/SN00000303_mask.npy</td>\n",
       "    </tr>\n",
       "    <tr>\n",
       "      <th>2</th>\n",
       "      <td>SN00000365</td>\n",
       "      <td>/mnt/NAS/youngwon/data/all/SN00000365.npy</td>\n",
       "      <td>/mnt/NAS/youngwon/data/label/SN00000365_mask.npy</td>\n",
       "    </tr>\n",
       "    <tr>\n",
       "      <th>3</th>\n",
       "      <td>SN00000528</td>\n",
       "      <td>/mnt/NAS/youngwon/data/all/SN00000528.npy</td>\n",
       "      <td>/mnt/NAS/youngwon/data/label/SN00000528_mask.npy</td>\n",
       "    </tr>\n",
       "    <tr>\n",
       "      <th>4</th>\n",
       "      <td>SN00001127</td>\n",
       "      <td>/mnt/NAS/youngwon/data/all/SN00001127.npy</td>\n",
       "      <td>/mnt/NAS/youngwon/data/label/SN00001127_mask.npy</td>\n",
       "    </tr>\n",
       "  </tbody>\n",
       "</table>\n",
       "</div>"
      ],
      "text/plain": [
       "   patient_id                                       data  \\\n",
       "0  SN00000222  /mnt/NAS/youngwon/data/all/SN00000222.npy   \n",
       "1  SN00000303  /mnt/NAS/youngwon/data/all/SN00000303.npy   \n",
       "2  SN00000365  /mnt/NAS/youngwon/data/all/SN00000365.npy   \n",
       "3  SN00000528  /mnt/NAS/youngwon/data/all/SN00000528.npy   \n",
       "4  SN00001127  /mnt/NAS/youngwon/data/all/SN00001127.npy   \n",
       "\n",
       "                                               mask  \n",
       "0  /mnt/NAS/youngwon/data/label/SN00000222_mask.npy  \n",
       "1  /mnt/NAS/youngwon/data/label/SN00000303_mask.npy  \n",
       "2  /mnt/NAS/youngwon/data/label/SN00000365_mask.npy  \n",
       "3  /mnt/NAS/youngwon/data/label/SN00000528_mask.npy  \n",
       "4  /mnt/NAS/youngwon/data/label/SN00001127_mask.npy  "
      ]
     },
     "execution_count": 17,
     "metadata": {},
     "output_type": "execute_result"
    }
   ],
   "source": [
    "df.head()"
   ]
  },
  {
   "cell_type": "code",
   "execution_count": 10,
   "metadata": {},
   "outputs": [
    {
     "ename": "TypeError",
     "evalue": "sequence item 6: expected str instance, list found",
     "output_type": "error",
     "traceback": [
      "\u001b[0;31m---------------------------------------------------------------------------\u001b[0m",
      "\u001b[0;31mTypeError\u001b[0m                                 Traceback (most recent call last)",
      "Cell \u001b[0;32mIn [10], line 8\u001b[0m\n\u001b[1;32m      6\u001b[0m temp2[\u001b[39m-\u001b[39m\u001b[39m1\u001b[39m] \u001b[39m=\u001b[39m temp2[:\u001b[39m-\u001b[39m\u001b[39m3\u001b[39m]\n\u001b[1;32m      7\u001b[0m temp1 \u001b[39m=\u001b[39m \u001b[39m'\u001b[39m\u001b[39m/\u001b[39m\u001b[39m'\u001b[39m\u001b[39m.\u001b[39mjoin(temp1)\n\u001b[0;32m----> 8\u001b[0m temp2 \u001b[39m=\u001b[39m \u001b[39m'\u001b[39;49m\u001b[39m/\u001b[39;49m\u001b[39m'\u001b[39;49m\u001b[39m.\u001b[39;49mjoin(temp2)\n\u001b[1;32m      9\u001b[0m \u001b[39mprint\u001b[39m(temp1)\n\u001b[1;32m     10\u001b[0m \u001b[39mprint\u001b[39m(temp2)\n",
      "\u001b[0;31mTypeError\u001b[0m: sequence item 6: expected str instance, list found"
     ]
    }
   ],
   "source": [
    "for i,v in enumerate(df.values):\n",
    "    temp1 = v[1].split('/')\n",
    "    temp2 = v[2].split('/')\n",
    "    temp1[-2] = 'croped_all'\n",
    "    temp2[-2] = 'croped_label'\n",
    "    temp2[-1] = temp2[:-3] +'.npy'\n",
    "    temp1 = '/'.join(temp1)\n",
    "    temp2 = '/'.join(temp2)\n",
    "    print(temp1)\n",
    "    print(temp2)"
   ]
  },
  {
   "cell_type": "code",
   "execution_count": null,
   "metadata": {},
   "outputs": [],
   "source": []
  }
 ],
 "metadata": {
  "kernelspec": {
   "display_name": "Python 3.8.10 64-bit",
   "language": "python",
   "name": "python3"
  },
  "language_info": {
   "codemirror_mode": {
    "name": "ipython",
    "version": 3
   },
   "file_extension": ".py",
   "mimetype": "text/x-python",
   "name": "python",
   "nbconvert_exporter": "python",
   "pygments_lexer": "ipython3",
   "version": "3.8.10"
  },
  "orig_nbformat": 4,
  "vscode": {
   "interpreter": {
    "hash": "916dbcbb3f70747c44a77c7bcd40155683ae19c65e1c03b4aa3499c5328201f1"
   }
  }
 },
 "nbformat": 4,
 "nbformat_minor": 2
}
